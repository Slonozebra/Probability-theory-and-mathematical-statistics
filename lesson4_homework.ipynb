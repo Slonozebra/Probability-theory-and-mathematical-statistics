{
  "nbformat": 4,
  "nbformat_minor": 0,
  "metadata": {
    "colab": {
      "name": "lesson4_homework.ipynb",
      "provenance": [],
      "collapsed_sections": []
    },
    "kernelspec": {
      "name": "python3",
      "display_name": "Python 3"
    },
    "language_info": {
      "name": "python"
    }
  },
  "cells": [
    {
      "cell_type": "markdown",
      "metadata": {
        "id": "zCowTNDdl9jw"
      },
      "source": [
        "##**Урок 4. Непрерывные случайные величины. Функция распределения и плотность распределения вероятностей. Равномерное и нормальное распределение. Центральная предельная теорема**"
      ]
    },
    {
      "cell_type": "markdown",
      "metadata": {
        "id": "FhJeFSvDmDSi"
      },
      "source": [
        "**1.Случайная непрерывная величина A имеет равномерное распределение на промежутке (200, 800].\n",
        "Найдите ее среднее значение и дисперсию**"
      ]
    },
    {
      "cell_type": "markdown",
      "metadata": {
        "id": "EpKb7V28mP7M"
      },
      "source": [
        "$M(X) = \\frac{a + b}{2} = \\frac{200 + 800}{2} = 500$\n",
        "\n",
        "$D(X) = \\frac{(b - a)^2}{12} = \\frac{(800 - 200)^2}{12} = 30000$"
      ]
    },
    {
      "cell_type": "markdown",
      "metadata": {
        "id": "D_tlVT1HmtTV"
      },
      "source": [
        "**2. О случайной непрерывной равномерно распределенной величине B известно, что ее дисперсия равна 0.2.\n",
        "Можно ли найти правую границу величины B и ее среднее значение зная, что левая граница равна 0.5?\n",
        "Если да, найдите ее.**"
      ]
    },
    {
      "cell_type": "markdown",
      "metadata": {
        "id": "bTxATxKDm9FM"
      },
      "source": [
        "$D(X) = \\frac{(b - a)^2}{12}$\n",
        "\n",
        "$0.2 = \\frac{(b - 0.5)^2}{12}$\n",
        "\n",
        "$2.4 = b^2 - b + 0.25$\n",
        "\n",
        "$b^2 - b - 2,15 = 0$\n",
        "\n",
        "$b = \\frac{1 \\pm \\sqrt{9.6}}{2}$\n",
        "\n",
        "$b_1 = 2.049 \\quad b_2 = −1.049$\n",
        "\n",
        "\n",
        "$M(X) = \\frac{a + b}{2} = \\frac{0.5 + 2.049}{2} = 1.275$"
      ]
    },
    {
      "cell_type": "markdown",
      "metadata": {
        "id": "JqMjrO8LoRA3"
      },
      "source": [
        "**3. Непрерывная случайная величина X распределена нормально и задана плотностью распределения\n",
        "f(x) = (1 / (4 * sqrt(2*pi))) * (exp(-(x+2)*2) / 32).\n",
        "Найдите:\n",
        "а). M(X)\n",
        "б). D(X)\n",
        "в). std(X) (среднее квадратичное отклонение)**"
      ]
    },
    {
      "cell_type": "markdown",
      "metadata": {
        "id": "C-nFRh9AopI7"
      },
      "source": [
        "\n",
        "\n",
        "$f(x) = \\frac{1}{\\sigma \\cdot \\sqrt{2 \\cdot \\mu}} \\cdot e^{-\\frac{(x - \\mu)^2}{2 \\sigma^2}}$\n",
        "\n",
        "а) $M(X) = -2$\n",
        "\n",
        "б) $D(X) = 16$\n",
        "\n",
        "в) $\\sigma = 4$"
      ]
    },
    {
      "cell_type": "markdown",
      "metadata": {
        "id": "eJtoLfVEoL6M"
      },
      "source": [
        "**4. Рост взрослого населения города X имеет нормальное распределение.\n",
        "Причем, средний рост равен 174 см, а среднее квадратичное отклонение равно 8 см.\n",
        "Какова вероятность того, что случайным образом выбранный взрослый человек имеет рост:\n",
        "а). больше 182 см\n",
        "б). больше 190 см\n",
        "в). от 166 см до 190 см\n",
        "г). от 166 см до 182 см\n",
        "д). от 158 см до 190 см\n",
        "е). не выше 150 см или не ниже 190 см\n",
        "ё). не выше 150 см или не ниже 198 см\n",
        "ж). ниже 166 см.**"
      ]
    },
    {
      "cell_type": "code",
      "metadata": {
        "id": "HAUnH8pYp6wK"
      },
      "source": [
        "import scipy.stats as st"
      ],
      "execution_count": 2,
      "outputs": []
    },
    {
      "cell_type": "markdown",
      "metadata": {
        "id": "p5Wxr8F1pHV8"
      },
      "source": [
        "**а)больше 182 см**"
      ]
    },
    {
      "cell_type": "code",
      "metadata": {
        "id": "Uh9x_ySHqIF0"
      },
      "source": [
        "hight = st.norm(loc=174, scale=8)"
      ],
      "execution_count": 3,
      "outputs": []
    },
    {
      "cell_type": "code",
      "metadata": {
        "colab": {
          "base_uri": "https://localhost:8080/"
        },
        "id": "xh45sgKyqMTD",
        "outputId": "7b8e3df9-70f1-47fe-9007-014d5fc9a010"
      },
      "source": [
        "1 - hight.cdf(182)"
      ],
      "execution_count": 4,
      "outputs": [
        {
          "output_type": "execute_result",
          "data": {
            "text/plain": [
              "0.15865525393145707"
            ]
          },
          "metadata": {
            "tags": []
          },
          "execution_count": 4
        }
      ]
    },
    {
      "cell_type": "markdown",
      "metadata": {
        "id": "eZfAmR5WqV3v"
      },
      "source": [
        "Вероятность того, что выбранный человек больше 182 см - 16%"
      ]
    },
    {
      "cell_type": "markdown",
      "metadata": {
        "id": "I5jZ7wQkqfLT"
      },
      "source": [
        "**б)больше 190 см**"
      ]
    },
    {
      "cell_type": "code",
      "metadata": {
        "colab": {
          "base_uri": "https://localhost:8080/"
        },
        "id": "mKU_EKaeqnIZ",
        "outputId": "5ba61401-8fae-4d91-9e94-d79afa546183"
      },
      "source": [
        "1 - hight.cdf(190)"
      ],
      "execution_count": 5,
      "outputs": [
        {
          "output_type": "execute_result",
          "data": {
            "text/plain": [
              "0.02275013194817921"
            ]
          },
          "metadata": {
            "tags": []
          },
          "execution_count": 5
        }
      ]
    },
    {
      "cell_type": "markdown",
      "metadata": {
        "id": "kR8JBl9SpaNE"
      },
      "source": [
        "Вероятность того, что выбранный человек больше 190 см - 2,28%"
      ]
    },
    {
      "cell_type": "markdown",
      "metadata": {
        "id": "Cw3gkmxcq6nE"
      },
      "source": [
        "**в) от 166 см до 190 см**"
      ]
    },
    {
      "cell_type": "code",
      "metadata": {
        "colab": {
          "base_uri": "https://localhost:8080/"
        },
        "id": "Yxsv6Qloq5XO",
        "outputId": "490786c3-46d4-43de-a858-18eb946237ef"
      },
      "source": [
        "hight.cdf(190) - hight.cdf(166)"
      ],
      "execution_count": 6,
      "outputs": [
        {
          "output_type": "execute_result",
          "data": {
            "text/plain": [
              "0.8185946141203637"
            ]
          },
          "metadata": {
            "tags": []
          },
          "execution_count": 6
        }
      ]
    },
    {
      "cell_type": "markdown",
      "metadata": {
        "id": "5pYap3cZrGHq"
      },
      "source": [
        "Вероятность того, что выбранный человек  от 166 см до 190 см - 82%"
      ]
    },
    {
      "cell_type": "markdown",
      "metadata": {
        "id": "L_BlIW6vrMXk"
      },
      "source": [
        "**г)от 166 см до 182 см**"
      ]
    },
    {
      "cell_type": "code",
      "metadata": {
        "colab": {
          "base_uri": "https://localhost:8080/"
        },
        "id": "8XVjYjhirWOc",
        "outputId": "23bdcf9d-53dc-4cfc-cdb9-d3e27e4c6e72"
      },
      "source": [
        "hight.cdf(182) - hight.cdf(166)"
      ],
      "execution_count": 7,
      "outputs": [
        {
          "output_type": "execute_result",
          "data": {
            "text/plain": [
              "0.6826894921370859"
            ]
          },
          "metadata": {
            "tags": []
          },
          "execution_count": 7
        }
      ]
    },
    {
      "cell_type": "markdown",
      "metadata": {
        "id": "FgR1_CXDrduH"
      },
      "source": [
        "Вероятность того, что выбранный человек от 166 см до 182 см - 68%"
      ]
    },
    {
      "cell_type": "markdown",
      "metadata": {
        "id": "8tp36mKArh10"
      },
      "source": [
        "**д)от 158 см до 190 см**"
      ]
    },
    {
      "cell_type": "code",
      "metadata": {
        "colab": {
          "base_uri": "https://localhost:8080/"
        },
        "id": "VhLysowmryRQ",
        "outputId": "72b20c6f-7829-4a91-fca8-0e5e00540849"
      },
      "source": [
        "hight.cdf(190) - hight.cdf(158)"
      ],
      "execution_count": 8,
      "outputs": [
        {
          "output_type": "execute_result",
          "data": {
            "text/plain": [
              "0.9544997361036416"
            ]
          },
          "metadata": {
            "tags": []
          },
          "execution_count": 8
        }
      ]
    },
    {
      "cell_type": "markdown",
      "metadata": {
        "id": "BWFaeULEr_6o"
      },
      "source": [
        "Вероятность того, что выбранный человек от 158 см до 190 см - 95%"
      ]
    },
    {
      "cell_type": "markdown",
      "metadata": {
        "id": "Xs54MOezsE3_"
      },
      "source": [
        "**е) не выше 150 см или не ниже 190 см**"
      ]
    },
    {
      "cell_type": "code",
      "metadata": {
        "colab": {
          "base_uri": "https://localhost:8080/"
        },
        "id": "UAZjJ7m3sLso",
        "outputId": "23bb2787-d470-431d-d79b-9e27f5251103"
      },
      "source": [
        "hight.cdf(150) + (1 - hight.cdf(190))"
      ],
      "execution_count": 9,
      "outputs": [
        {
          "output_type": "execute_result",
          "data": {
            "text/plain": [
              "0.0241000299798093"
            ]
          },
          "metadata": {
            "tags": []
          },
          "execution_count": 9
        }
      ]
    },
    {
      "cell_type": "markdown",
      "metadata": {
        "id": "mLXIVk03sSG1"
      },
      "source": [
        "Вероятность того, что выбранный человек не выше 150 см или не ниже 190 см - 2,4%"
      ]
    },
    {
      "cell_type": "markdown",
      "metadata": {
        "id": "0EOgY50SsXKD"
      },
      "source": [
        "**ё) не выше 150 см или не ниже 198 см**"
      ]
    },
    {
      "cell_type": "code",
      "metadata": {
        "colab": {
          "base_uri": "https://localhost:8080/"
        },
        "id": "BOMx091PsjEh",
        "outputId": "8859cd02-61ea-406d-8c0f-b20f899b1af3"
      },
      "source": [
        "hight.cdf(150) + (1 - hight.cdf(198))"
      ],
      "execution_count": 10,
      "outputs": [
        {
          "output_type": "execute_result",
          "data": {
            "text/plain": [
              "0.0026997960632601965"
            ]
          },
          "metadata": {
            "tags": []
          },
          "execution_count": 10
        }
      ]
    },
    {
      "cell_type": "markdown",
      "metadata": {
        "id": "YaUBUtxmsrXD"
      },
      "source": [
        "Вероятность того, что выбранный человек не выше 150 см или не ниже 198 см - 0,27%"
      ]
    },
    {
      "cell_type": "markdown",
      "metadata": {
        "id": "Si2NemhKsys6"
      },
      "source": [
        "**ж)ниже 166 см.**"
      ]
    },
    {
      "cell_type": "code",
      "metadata": {
        "colab": {
          "base_uri": "https://localhost:8080/"
        },
        "id": "HLOKBfQYs6A0",
        "outputId": "f4831e76-00cf-4b9d-ecf7-214d3c736b2e"
      },
      "source": [
        "hight.cdf(166)"
      ],
      "execution_count": 11,
      "outputs": [
        {
          "output_type": "execute_result",
          "data": {
            "text/plain": [
              "0.15865525393145707"
            ]
          },
          "metadata": {
            "tags": []
          },
          "execution_count": 11
        }
      ]
    },
    {
      "cell_type": "markdown",
      "metadata": {
        "id": "lzOrj8JGs5aw"
      },
      "source": [
        "Вероятность того, что выбранный человек ниже 166 см - 16%"
      ]
    },
    {
      "cell_type": "markdown",
      "metadata": {
        "id": "xifrt2VatBzu"
      },
      "source": [
        "**5.На сколько сигм (средних квадратичных отклонений) отклоняется рост человека, равный 190 см, от\n",
        "математического ожидания роста в популяции, в которой M(X) = 178 см и D(X) = 25 кв.см?**"
      ]
    },
    {
      "cell_type": "markdown",
      "metadata": {
        "id": "rBwpB-vItO_M"
      },
      "source": [
        "$ \\frac{X - M(X)}{\\sqrt{D(X)}} = \\frac{190 - 178}{\\sqrt{25}} = 2.4$"
      ]
    },
    {
      "cell_type": "code",
      "metadata": {
        "id": "jLuqn6GMtmhG"
      },
      "source": [
        "import numpy as np"
      ],
      "execution_count": 13,
      "outputs": []
    },
    {
      "cell_type": "code",
      "metadata": {
        "colab": {
          "base_uri": "https://localhost:8080/"
        },
        "id": "Ljs2FtfxtZA6",
        "outputId": "61634785-6347-4e3d-9848-c1e4e21aedaa"
      },
      "source": [
        "(190 - 178) / np.sqrt(25)"
      ],
      "execution_count": 14,
      "outputs": [
        {
          "output_type": "execute_result",
          "data": {
            "text/plain": [
              "2.4"
            ]
          },
          "metadata": {
            "tags": []
          },
          "execution_count": 14
        }
      ]
    },
    {
      "cell_type": "markdown",
      "metadata": {
        "id": "JHGgBgNEtoEq"
      },
      "source": [
        "Ответ: 2,4"
      ]
    },
    {
      "cell_type": "markdown",
      "metadata": {
        "id": "OUOEiqKJtzX-"
      },
      "source": [
        ""
      ]
    }
  ]
}