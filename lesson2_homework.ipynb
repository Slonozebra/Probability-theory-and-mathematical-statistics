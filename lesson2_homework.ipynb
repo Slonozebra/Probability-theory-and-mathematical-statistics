{
  "nbformat": 4,
  "nbformat_minor": 0,
  "metadata": {
    "colab": {
      "name": "lesson2_homework.ipynb",
      "provenance": [],
      "collapsed_sections": []
    },
    "kernelspec": {
      "name": "python3",
      "display_name": "Python 3"
    },
    "language_info": {
      "name": "python"
    }
  },
  "cells": [
    {
      "cell_type": "markdown",
      "metadata": {
        "id": "N5luzRhRrSji"
      },
      "source": [
        "##**Урок 2**\n",
        "**Дискретные случайные величины. Закон распределения вероятностей. Биномиальный закон распределения. Распределение Пуассона**"
      ]
    },
    {
      "cell_type": "markdown",
      "metadata": {
        "id": "0Elu0Dkkrby9"
      },
      "source": [
        "**1. Вероятность того, что стрелок попадет в мишень, выстрелив один раз, равна 0.8. Стрелок выстрелил 100 раз. Найдите вероятность того, что стрелок попадет в цель ровно 85 раз.**"
      ]
    },
    {
      "cell_type": "markdown",
      "metadata": {
        "id": "L7iGvQQ0rmub"
      },
      "source": [
        "$P_n =C_n^kp^kq^{n-k}$\n",
        "\n",
        "$P_{100} = \\frac{100!}{85!(100-85)!} * 0.8^{85} * (1- 0.8)^{100-85} = 0.048$"
      ]
    },
    {
      "cell_type": "code",
      "metadata": {
        "colab": {
          "base_uri": "https://localhost:8080/"
        },
        "id": "GyrEz4Y6soy3",
        "outputId": "53c60e30-0f5b-4775-d5a9-5281c82e9e6d"
      },
      "source": [
        "import numpy as np\n",
        "\n",
        "n = 100\n",
        "k = 85\n",
        "p = 0.8\n",
        "q = 1 - p\n",
        "lambda_ = n * p\n",
        "\n",
        "(np.math.factorial(n) / (np.math.factorial(k) * np.math.factorial(n - k))) * p**k * q**(n-k)"
      ],
      "execution_count": null,
      "outputs": [
        {
          "output_type": "execute_result",
          "data": {
            "text/plain": [
              "0.048061793700746355"
            ]
          },
          "metadata": {
            "tags": []
          },
          "execution_count": 1
        }
      ]
    },
    {
      "cell_type": "markdown",
      "metadata": {
        "id": "magjbxJ9sxKs"
      },
      "source": [
        "Ответ: Вероятность того, что стрелок попадет в цель ровно 85 раз P=0.048"
      ]
    },
    {
      "cell_type": "markdown",
      "metadata": {
        "id": "R_2d2uGSsyHQ"
      },
      "source": [
        "**2. Вероятность того, что лампочка перегорит в течение первого дня эксплуатации, равна 0.0004. В жилом комплексе после ремонта в один день включили 5000 новых лампочек. Какова вероятность, что ни одна из них не перегорит в первый день? Какова вероятность, что перегорят ровно две?**"
      ]
    },
    {
      "cell_type": "markdown",
      "metadata": {
        "id": "2g9KqbC7s6mr"
      },
      "source": [
        "$P_m \\approx \\frac{\\lambda^{m}}{m!}e^{-\\lambda}$\n",
        "$\\lambda = 5000 \\times 0.0004 = 2$\n",
        "$P_m \\approx \\frac{2^{0}}{0!}e^{-2} \\approx 0.135335 $\n",
        "\n"
      ]
    },
    {
      "cell_type": "code",
      "metadata": {
        "colab": {
          "base_uri": "https://localhost:8080/"
        },
        "id": "hLINsoNHwREb",
        "outputId": "59aabb8e-cc69-4cd0-bad3-5c819202e371"
      },
      "source": [
        "n = 5000\n",
        "m = 0\n",
        "p = 0.0004\n",
        "lambda_ = n * p\n",
        "\n",
        "(lambda_**m / np.math.factorial(m)) * np.exp(-lambda_)"
      ],
      "execution_count": 2,
      "outputs": [
        {
          "output_type": "execute_result",
          "data": {
            "text/plain": [
              "0.1353352832366127"
            ]
          },
          "metadata": {
            "tags": []
          },
          "execution_count": 2
        }
      ]
    },
    {
      "cell_type": "markdown",
      "metadata": {
        "id": "3_JKruH0wVaw"
      },
      "source": [
        "Ответ: вероятность, что ни одна из лампочек не перегорит равна 0.13"
      ]
    },
    {
      "cell_type": "markdown",
      "metadata": {
        "id": "_TO_Wu7qweF0"
      },
      "source": [
        "$P_m \\approx \\frac{2^{2}}{2!}e^{-2} \\approx 0.270671 $"
      ]
    },
    {
      "cell_type": "code",
      "metadata": {
        "colab": {
          "base_uri": "https://localhost:8080/"
        },
        "id": "G6_coEtnwi83",
        "outputId": "0a01012e-2464-44e1-b45a-4ef0c251a21e"
      },
      "source": [
        "n = 5000\n",
        "m = 2\n",
        "p = 0.0004\n",
        "lambda_ = n * p\n",
        "\n",
        "(lambda_**m / np.math.factorial(m)) * np.exp(-lambda_)"
      ],
      "execution_count": 3,
      "outputs": [
        {
          "output_type": "execute_result",
          "data": {
            "text/plain": [
              "0.2706705664732254"
            ]
          },
          "metadata": {
            "tags": []
          },
          "execution_count": 3
        }
      ]
    },
    {
      "cell_type": "markdown",
      "metadata": {
        "id": "RgaGncxdwqao"
      },
      "source": [
        "Ответ: вероятность, что перегорят ровно две лампочки равна 0.27"
      ]
    },
    {
      "cell_type": "markdown",
      "metadata": {
        "id": "tnsyFB5Gw1X-"
      },
      "source": [
        "**3.Монету подбросили 144 раза. Какова вероятность, что орел выпадет ровно 70 раз?**"
      ]
    },
    {
      "cell_type": "markdown",
      "metadata": {
        "id": "W0EgVA32w4zL"
      },
      "source": [
        "$P_n =C_n^kp^kq^{n-k}$\n",
        "$P_{70} = \\frac{144!}{70!(144-70)!} * 0.5^{70} * (1- 0.5)^{144-70} = 0.063$"
      ]
    },
    {
      "cell_type": "code",
      "metadata": {
        "colab": {
          "base_uri": "https://localhost:8080/"
        },
        "id": "mt5ZBGQLxDLw",
        "outputId": "ee295e46-4750-4e14-ae76-0382e9a2595a"
      },
      "source": [
        "import numpy as np\n",
        "\n",
        "n = 144\n",
        "k = 70\n",
        "p = 0.5\n",
        "q = 1 - p\n",
        "lambda_ = n * p\n",
        "\n",
        "(np.math.factorial(n) / (np.math.factorial(k) * np.math.factorial(n - k))) * p**k * q**(n-k)"
      ],
      "execution_count": 4,
      "outputs": [
        {
          "output_type": "execute_result",
          "data": {
            "text/plain": [
              "0.06281178035144776"
            ]
          },
          "metadata": {
            "tags": []
          },
          "execution_count": 4
        }
      ]
    },
    {
      "cell_type": "markdown",
      "metadata": {
        "id": "qQGcHeFrxIYF"
      },
      "source": [
        "Ответ: вероятность, что орел выпадет ровно 70 раз равна 0.062 или 6.2%"
      ]
    },
    {
      "cell_type": "markdown",
      "metadata": {
        "id": "d5qx9F7yxOTT"
      },
      "source": [
        "**4.В первом ящике находится 10 мячей, из которых 7 - белые. Во втором ящике - 11 мячей, из которых 9 белых. Из каждого ящика вытаскивают случайным образом по два мяча. Какова вероятность того, что все мячи белые? Какова вероятность того, что ровно два мяча белые? Какова вероятность того, что хотя бы один мяч белый?**"
      ]
    },
    {
      "cell_type": "markdown",
      "metadata": {
        "id": "CdMrtxybxWrc"
      },
      "source": [
        "\n",
        "Вероятность того, что все мячи белые:\n",
        "\n",
        "$P = \\frac{7}{10} \\cdot \\frac{6}{9} \\cdot \\frac{9}{11} \\cdot \\frac{8}{10} = 0.30545$\n",
        "\n",
        "Вероятность того, что ровно два мяча белые:\n",
        "\n",
        "Вероятность, что из первого ящика вытащили два белых мяча и ни одного из второй:\n",
        "\n",
        "$P = \\frac{7}{10} \\cdot \\frac{6}{9} \\cdot \\frac{2}{11} \\cdot \\frac{1}{10} = 0.00848$\n",
        "\n",
        "Вероятность, что из первого ящика вытащили только один белый мяч и только один из второй:\n",
        "\n",
        "$P = (\\frac{7}{10} \\cdot \\frac{3}{9} + \\frac{3}{10} \\cdot \\frac{7}{9}) \\cdot (\\frac{9}{11} \\cdot \\frac{2}{10} + \\frac{2}{11} \\cdot \\frac{9}{10}) = 0.15273$\n",
        "\n",
        "Вероятность, что из первго ящика вытащили ни одного белого мяча и два из второй:\n",
        "\n",
        "$P = \\frac{3}{10} \\cdot \\frac{2}{9} \\cdot \\frac{9}{11} \\cdot \\frac{8}{10} = 0.04364$\n",
        "\n",
        "$P = 0.00848 + 0.15272 + 0.04364 = 0.20484$\n",
        "\n",
        "Вероятность того, что хотя бы один мяч белый:\n",
        "\n",
        "Вероятность не вытащить ни одного белого мяча из первого ящика и второго ящика:\n",
        "\n",
        "$P = \\frac{3}{10} \\cdot  \\frac{2}{9} \\cdot \\frac{2}{11} \\cdot  \\frac{1}{10}= 0.00121$\n",
        "\n",
        "Вероятность того, что хотя бы один мяч белый:\n",
        "\n",
        "$P = 1 - 0.00121 = 0.99879$"
      ]
    },
    {
      "cell_type": "markdown",
      "metadata": {
        "id": "lTLCMv8qyKQX"
      },
      "source": [
        "\n",
        "Ответ: Вероятность того, что вынут ровно два белых мяча = 20.4%"
      ]
    },
    {
      "cell_type": "markdown",
      "metadata": {
        "id": "AGzsmzNkyqT2"
      },
      "source": [
        "Ответ: Вероятность того, что что хотя бы один мяч белый = 98.8%"
      ]
    }
  ]
}