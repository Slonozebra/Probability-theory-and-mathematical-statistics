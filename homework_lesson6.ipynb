{
  "nbformat": 4,
  "nbformat_minor": 0,
  "metadata": {
    "colab": {
      "name": "homework_lesson6.ipynb",
      "provenance": [],
      "collapsed_sections": []
    },
    "kernelspec": {
      "name": "python3",
      "display_name": "Python 3"
    },
    "language_info": {
      "name": "python"
    }
  },
  "cells": [
    {
      "cell_type": "markdown",
      "metadata": {
        "id": "PWiVINY5r2Qt"
      },
      "source": [
        "##**Урок 6. Взаимосвязь величин. Параметрические и непараметрические показатели корреляции. Корреляционный анализ.**"
      ]
    },
    {
      "cell_type": "markdown",
      "metadata": {
        "id": "d9GpV6Mxr77e"
      },
      "source": [
        "**1.Даны значения величины заработной платы заемщиков банка (zp) и значения их поведенческого кредитного скоринга (ks):\n",
        "zp = [35, 45, 190, 200, 40, 70, 54, 150, 120, 110],\n",
        "ks = [401, 574, 874, 919, 459, 739, 653, 902, 746, 832].\n",
        "Найдите ковариацию этих двух величин с помощью элементарных действий, а затем с помощью функции cov из numpy\n",
        "Полученные значения должны быть равны.\n",
        "Найдите коэффициент корреляции Пирсона с помощью ковариации и среднеквадратичных отклонений двух признаков,\n",
        "а затем с использованием функций из библиотек numpy и pandas.**"
      ]
    },
    {
      "cell_type": "code",
      "metadata": {
        "id": "223Xi73ctMUG"
      },
      "source": [
        "import numpy as np"
      ],
      "execution_count": 3,
      "outputs": []
    },
    {
      "cell_type": "code",
      "metadata": {
        "colab": {
          "base_uri": "https://localhost:8080/"
        },
        "id": "ye7AIxwHtHlZ",
        "outputId": "a6836e4b-aca5-4646-b875-23f93dfc28ec"
      },
      "source": [
        "# s\n",
        "zp = np.array([35, 45, 190, 200, 40, 70, 54, 150, 120, 110])\n",
        "zp"
      ],
      "execution_count": 4,
      "outputs": [
        {
          "output_type": "execute_result",
          "data": {
            "text/plain": [
              "array([ 35,  45, 190, 200,  40,  70,  54, 150, 120, 110])"
            ]
          },
          "metadata": {},
          "execution_count": 4
        }
      ]
    },
    {
      "cell_type": "code",
      "metadata": {
        "colab": {
          "base_uri": "https://localhost:8080/"
        },
        "id": "0TEi8WpCtR9j",
        "outputId": "3ada642b-9bb3-4a97-f888-d823f9b2a521"
      },
      "source": [
        "\n",
        "# p\n",
        "ks = np.array([401, 574, 874, 919, 459, 739, 653, 902, 746, 832])\n",
        "ks"
      ],
      "execution_count": 5,
      "outputs": [
        {
          "output_type": "execute_result",
          "data": {
            "text/plain": [
              "array([401, 574, 874, 919, 459, 739, 653, 902, 746, 832])"
            ]
          },
          "metadata": {},
          "execution_count": 5
        }
      ]
    },
    {
      "cell_type": "code",
      "metadata": {
        "colab": {
          "base_uri": "https://localhost:8080/"
        },
        "id": "zdUtje3HtVCN",
        "outputId": "1d999fec-3b8e-4b37-b072-d77e550a2dee"
      },
      "source": [
        "# Ковариация cov = M(XY) - M(X)M(Y)\n",
        "cov_ks = np.mean(ks*zp) - np.mean(ks) * np.mean(zp) \n",
        "cov_ks"
      ],
      "execution_count": 6,
      "outputs": [
        {
          "output_type": "execute_result",
          "data": {
            "text/plain": [
              "9157.839999999997"
            ]
          },
          "metadata": {},
          "execution_count": 6
        }
      ]
    },
    {
      "cell_type": "code",
      "metadata": {
        "colab": {
          "base_uri": "https://localhost:8080/"
        },
        "id": "RPpHlRV8tZqq",
        "outputId": "dec4ae81-3de5-490b-e0cc-a1c4f70a0e8f"
      },
      "source": [
        "# Ковариация смещённая (ddof=0)\n",
        "np.cov(zp, ks, ddof=0)\n",
        "# np.cov(ks,zp, ddof=0)"
      ],
      "execution_count": 7,
      "outputs": [
        {
          "output_type": "execute_result",
          "data": {
            "text/plain": [
              "array([[ 3494.64,  9157.84],\n",
              "       [ 9157.84, 30468.89]])"
            ]
          },
          "metadata": {},
          "execution_count": 7
        }
      ]
    },
    {
      "cell_type": "code",
      "metadata": {
        "colab": {
          "base_uri": "https://localhost:8080/"
        },
        "id": "_p0uHu1Wta3b",
        "outputId": "2108b282-0787-47aa-e732-c9b28877b1c3"
      },
      "source": [
        "# Ковариация несмещённая (ddof=1)\n",
        "np.cov(ks,zp)"
      ],
      "execution_count": 9,
      "outputs": [
        {
          "output_type": "execute_result",
          "data": {
            "text/plain": [
              "array([[33854.32222222, 10175.37777778],\n",
              "       [10175.37777778,  3882.93333333]])"
            ]
          },
          "metadata": {},
          "execution_count": 9
        }
      ]
    },
    {
      "cell_type": "code",
      "metadata": {
        "colab": {
          "base_uri": "https://localhost:8080/"
        },
        "id": "AOJqJ_R-tfNG",
        "outputId": "fef3f3a8-367b-4800-c97b-74a4b323da0c"
      },
      "source": [
        "# Ковариация несмещённая\n",
        "np.cov(ks, zp, ddof=1)"
      ],
      "execution_count": 10,
      "outputs": [
        {
          "output_type": "execute_result",
          "data": {
            "text/plain": [
              "array([[33854.32222222, 10175.37777778],\n",
              "       [10175.37777778,  3882.93333333]])"
            ]
          },
          "metadata": {},
          "execution_count": 10
        }
      ]
    },
    {
      "cell_type": "code",
      "metadata": {
        "colab": {
          "base_uri": "https://localhost:8080/"
        },
        "id": "4nuAGALNtjFE",
        "outputId": "fe48d326-6e86-4121-ca9b-ddc35048102b"
      },
      "source": [
        "# Стандартное отклонение смещённое\n",
        "std_ks = np.std(ks, ddof=0)\n",
        "# std_ks = ks.std()\n",
        "std_ks"
      ],
      "execution_count": 11,
      "outputs": [
        {
          "output_type": "execute_result",
          "data": {
            "text/plain": [
              "174.55340157098058"
            ]
          },
          "metadata": {},
          "execution_count": 11
        }
      ]
    },
    {
      "cell_type": "code",
      "metadata": {
        "colab": {
          "base_uri": "https://localhost:8080/"
        },
        "id": "4yB0zcfstlUT",
        "outputId": "1091f50b-6377-4d08-8568-5d33a1945f03"
      },
      "source": [
        "\n",
        "# Стандартное отклонение смещённое\n",
        "std_zp = np.std(zp, ddof=0)\n",
        "#std_zp = zp.std()\n",
        "std_zp"
      ],
      "execution_count": 12,
      "outputs": [
        {
          "output_type": "execute_result",
          "data": {
            "text/plain": [
              "59.115480206118605"
            ]
          },
          "metadata": {},
          "execution_count": 12
        }
      ]
    },
    {
      "cell_type": "code",
      "metadata": {
        "colab": {
          "base_uri": "https://localhost:8080/"
        },
        "id": "1IOenZIctpZ_",
        "outputId": "2cb6db8e-219a-4ff9-b9cd-a3304e4ca016"
      },
      "source": [
        "# Коэффициент корреляции Пирсона 9157.839999999997/(174.55340157098058*59.115480206118605)\n",
        "korr_ks = cov_ks/(std_ks*std_zp)\n",
        "korr_ks"
      ],
      "execution_count": 13,
      "outputs": [
        {
          "output_type": "execute_result",
          "data": {
            "text/plain": [
              "0.8874900920739158"
            ]
          },
          "metadata": {},
          "execution_count": 13
        }
      ]
    },
    {
      "cell_type": "code",
      "metadata": {
        "colab": {
          "base_uri": "https://localhost:8080/"
        },
        "id": "PfZOJTkktr0c",
        "outputId": "812320d1-18db-4df8-8176-6787c3a90b3c"
      },
      "source": [
        "\n",
        "# Коэффициент корреляции Пирсона\n",
        "np.corrcoef(ks,zp)"
      ],
      "execution_count": 14,
      "outputs": [
        {
          "output_type": "execute_result",
          "data": {
            "text/plain": [
              "array([[1.        , 0.88749009],\n",
              "       [0.88749009, 1.        ]])"
            ]
          },
          "metadata": {},
          "execution_count": 14
        }
      ]
    },
    {
      "cell_type": "markdown",
      "metadata": {
        "id": "ZMM8mdKHt2c4"
      },
      "source": [
        "**2.Измерены значения IQ выборки студентов,\n",
        "обучающихся в местных технических вузах:\n",
        "131, 125, 115, 122, 131, 115, 107, 99, 125, 111.\n",
        "Известно, что в генеральной совокупности IQ распределен нормально.\n",
        "Найдите доверительный интервал для математического ожидания с надежностью 0.95.**"
      ]
    },
    {
      "cell_type": "code",
      "metadata": {
        "colab": {
          "base_uri": "https://localhost:8080/"
        },
        "id": "WC3015elug1g",
        "outputId": "5843438a-b6d1-4f85-f6ce-cb4d36248694"
      },
      "source": [
        "\n",
        "X = np.array([131.0, 125.0, 115.0, 122.0, 131.0, 115.0, 107.0, 99.0, 125.0, 111.0])\n",
        "X"
      ],
      "execution_count": 15,
      "outputs": [
        {
          "output_type": "execute_result",
          "data": {
            "text/plain": [
              "array([131., 125., 115., 122., 131., 115., 107.,  99., 125., 111.])"
            ]
          },
          "metadata": {},
          "execution_count": 15
        }
      ]
    },
    {
      "cell_type": "code",
      "metadata": {
        "colab": {
          "base_uri": "https://localhost:8080/"
        },
        "id": "vTRKaY2xuhxk",
        "outputId": "50b114bc-7621-4d7b-be76-a717cd7de294"
      },
      "source": [
        "n=len(X)  # Объём выборки\n",
        "X_cp = X.mean()  # Среднее арифмитическое для данной выборки\n",
        "nu = n-1  # Число степеней свободы\n",
        "alpha = 1 - 0.95\n",
        "t_975_9 = 2.262  # Коэффициент Стьюдента табличный t(p=0.975, nu=9)\n",
        "#sigma = X.std() # Стандартное отклонение смещённое\n",
        "sigma = X.std(ddof=1)  # Несмещённое среднеквадратичное отклонение\n",
        "print(f'Объём выборки n = {n}')\n",
        "print(f'Число степеней свободы nu = {nu}')\n",
        "print(f'Среднее выборочное X_cp = {X_cp}')\n",
        "print(f'Статистический уровень значимости alpha = {alpha}')\n",
        "print(f'Коэффициент Стьюдента табличный t(p=0.975, nu=9) = {t_975_9}')\n",
        "# print(f'Смещённое среднеквадратичное отклонение sigma = {sigma}')\n",
        "print(f'Несмещённое среднеквадратичное отклонение sigma = {sigma}')"
      ],
      "execution_count": 16,
      "outputs": [
        {
          "output_type": "stream",
          "text": [
            "Объём выборки n = 10\n",
            "Число степеней свободы nu = 9\n",
            "Среднее выборочное X_cp = 118.1\n",
            "Статистический уровень значимости alpha = 0.050000000000000044\n",
            "Коэффициент Стьюдента табличный t(p=0.975, nu=9) = 2.262\n",
            "Несмещённое среднеквадратичное отклонение sigma = 10.54566788359614\n"
          ],
          "name": "stdout"
        }
      ]
    },
    {
      "cell_type": "code",
      "metadata": {
        "colab": {
          "base_uri": "https://localhost:8080/"
        },
        "id": "Gwl_2VnoukOd",
        "outputId": "b8422a7c-970f-4e7f-bc88-002a55403cf2"
      },
      "source": [
        "\n",
        "se=sigma/np.sqrt(n)\n",
        "se"
      ],
      "execution_count": 17,
      "outputs": [
        {
          "output_type": "execute_result",
          "data": {
            "text/plain": [
              "3.3348329959851224"
            ]
          },
          "metadata": {},
          "execution_count": 17
        }
      ]
    },
    {
      "cell_type": "code",
      "metadata": {
        "colab": {
          "base_uri": "https://localhost:8080/"
        },
        "id": "pl8GyarNumgu",
        "outputId": "7e41e619-7101-470f-d4ac-3346e1dd964f"
      },
      "source": [
        "\n",
        "mean_std_X = t_975_9*sigma/np.sqrt(n)\n",
        "mean_std_X"
      ],
      "execution_count": 18,
      "outputs": [
        {
          "output_type": "execute_result",
          "data": {
            "text/plain": [
              "7.543392236918348"
            ]
          },
          "metadata": {},
          "execution_count": 18
        }
      ]
    },
    {
      "cell_type": "code",
      "metadata": {
        "colab": {
          "base_uri": "https://localhost:8080/"
        },
        "id": "zaYNd2u6upmc",
        "outputId": "86cde4df-642b-4429-daaf-5285bb15c0aa"
      },
      "source": [
        "X_cp - t_975_9*sigma/np.sqrt(n)"
      ],
      "execution_count": 19,
      "outputs": [
        {
          "output_type": "execute_result",
          "data": {
            "text/plain": [
              "110.55660776308164"
            ]
          },
          "metadata": {},
          "execution_count": 19
        }
      ]
    },
    {
      "cell_type": "code",
      "metadata": {
        "colab": {
          "base_uri": "https://localhost:8080/"
        },
        "id": "vczqHp9_ur3Q",
        "outputId": "bf5015eb-8f72-4c50-e544-abc10d198460"
      },
      "source": [
        "X_cp + t_975_9*sigma/np.sqrt(n)"
      ],
      "execution_count": 20,
      "outputs": [
        {
          "output_type": "execute_result",
          "data": {
            "text/plain": [
              "125.64339223691834"
            ]
          },
          "metadata": {},
          "execution_count": 20
        }
      ]
    },
    {
      "cell_type": "code",
      "metadata": {
        "colab": {
          "base_uri": "https://localhost:8080/"
        },
        "id": "s4yuyZcOus2L",
        "outputId": "208a3108-ff9f-4411-bf16-80bcd0e3307b"
      },
      "source": [
        "t_stat(X_cp, sigma/np.sqrt(n), n - 1, 0.05, 'two-sided')"
      ],
      "execution_count": 21,
      "outputs": [
        {
          "output_type": "execute_result",
          "data": {
            "text/plain": [
              "(110.55608365158724, 125.64391634841274)"
            ]
          },
          "metadata": {},
          "execution_count": 21
        }
      ]
    },
    {
      "cell_type": "markdown",
      "metadata": {
        "id": "mCM8bWoluFRV"
      },
      "source": [
        "\n",
        "Ответ: Доверительный интервал [ 110.5566; 125.6434 ]"
      ]
    },
    {
      "cell_type": "markdown",
      "metadata": {
        "id": "ugWDxJaksC74"
      },
      "source": [
        "**3.Известно, что рост футболистов в сборной распределен нормально\n",
        "с дисперсией генеральной совокупности, равной 25 кв.см. Объем выборки равен 27,\n",
        "среднее выборочное составляет 174.2. Найдите доверительный интервал для математического\n",
        "ожидания с надежностью 0.95.**"
      ]
    },
    {
      "cell_type": "code",
      "metadata": {
        "id": "nN3kCLqxu5OG"
      },
      "source": [
        "M =  174.2  # выборочная средняя \n",
        "D = 25.0  # дисперсией генеральной совокупности\n",
        "n = 27  # объем выборки\n",
        "sigma = np.sqrt(D)  # средне квадратическое отклонением\n",
        "alpha = 0.05  # статистический уровень значимости 𝛼=0.05"
      ],
      "execution_count": 23,
      "outputs": []
    },
    {
      "cell_type": "code",
      "metadata": {
        "colab": {
          "base_uri": "https://localhost:8080/"
        },
        "id": "oBDNwE96vKky",
        "outputId": "98c4a5fb-d17a-4a16-f82d-85a51cadca03"
      },
      "source": [
        "print(f'Объём выборки n = {n}')\n",
        "print(f'Среднее выборочное X_cp = {X_cp}')\n",
        "print(f'дисперсией генеральной совокупности D = {D}')\n",
        "print(f'Cреднеквадратичное отклонение sigma = {sigma}')\n",
        "print(f'Статистический уровень значимости alpha = {alpha}')"
      ],
      "execution_count": 24,
      "outputs": [
        {
          "output_type": "stream",
          "text": [
            "Объём выборки n = 27\n",
            "Среднее выборочное X_cp = 118.1\n",
            "дисперсией генеральной совокупности D = 25.0\n",
            "Cреднеквадратичное отклонение sigma = 5.0\n",
            "Статистический уровень значимости alpha = 0.05\n"
          ],
          "name": "stdout"
        }
      ]
    },
    {
      "cell_type": "code",
      "metadata": {
        "id": "1qWQ4_h4vLod"
      },
      "source": [
        "z_alpfa_2=1.96  # z табличное для  𝛼/2"
      ],
      "execution_count": 25,
      "outputs": []
    },
    {
      "cell_type": "markdown",
      "metadata": {
        "id": "597UXMCxvb32"
      },
      "source": [
        "\n",
        "z табличное для $\\alpha/2=0.025$"
      ]
    },
    {
      "cell_type": "markdown",
      "metadata": {
        "id": "KiJQAOcivhYw"
      },
      "source": [
        "Доверительный интервал $[ 172.3140; 176.0860 ]$ с вероятностью $95\\%$\n",
        "\n",
        "$$\\overline{X} \\pm z_{\\alpha/2} \\cdot \\frac{\\sigma}{\\sqrt{n}} = 174.2 \\pm 1.96 \\cdot \\frac{5.0}{\\sqrt{27}} \\approx 174.2 \\pm 1.96 * 0.96225 \\approx 174.2 \\pm 1.8860$$"
      ]
    },
    {
      "cell_type": "code",
      "metadata": {
        "colab": {
          "base_uri": "https://localhost:8080/"
        },
        "id": "fdFPnb5fvh0d",
        "outputId": "9f344796-71d2-4f89-8f2c-0a33cd6fdadc"
      },
      "source": [
        "se=sigma/np.sqrt(n)\n",
        "se"
      ],
      "execution_count": 26,
      "outputs": [
        {
          "output_type": "execute_result",
          "data": {
            "text/plain": [
              "0.9622504486493763"
            ]
          },
          "metadata": {},
          "execution_count": 26
        }
      ]
    },
    {
      "cell_type": "code",
      "metadata": {
        "colab": {
          "base_uri": "https://localhost:8080/"
        },
        "id": "O78g5sy2vcW5",
        "outputId": "8db8b93d-1ba2-4f62-8bd1-d1b6117c658b"
      },
      "source": [
        "se*z_alpfa_2"
      ],
      "execution_count": 27,
      "outputs": [
        {
          "output_type": "execute_result",
          "data": {
            "text/plain": [
              "1.8860108793527774"
            ]
          },
          "metadata": {},
          "execution_count": 27
        }
      ]
    },
    {
      "cell_type": "code",
      "metadata": {
        "colab": {
          "base_uri": "https://localhost:8080/"
        },
        "id": "UfLe_08Jv3mC",
        "outputId": "25113a19-99a7-400a-d861-002eeef9caea"
      },
      "source": [
        "\n",
        "M - z_alpfa_2*sigma/np.sqrt(n)"
      ],
      "execution_count": 28,
      "outputs": [
        {
          "output_type": "execute_result",
          "data": {
            "text/plain": [
              "172.31398912064722"
            ]
          },
          "metadata": {},
          "execution_count": 28
        }
      ]
    },
    {
      "cell_type": "code",
      "metadata": {
        "colab": {
          "base_uri": "https://localhost:8080/"
        },
        "id": "Ib2dFcEBv5m6",
        "outputId": "712662b1-d3e6-46f4-a39f-11d4a0767573"
      },
      "source": [
        "\n",
        "M + z_alpfa_2*sigma/np.sqrt(n)"
      ],
      "execution_count": 29,
      "outputs": [
        {
          "output_type": "execute_result",
          "data": {
            "text/plain": [
              "176.08601087935276"
            ]
          },
          "metadata": {},
          "execution_count": 29
        }
      ]
    },
    {
      "cell_type": "code",
      "metadata": {
        "colab": {
          "base_uri": "https://localhost:8080/"
        },
        "id": "AtITYLWyv8EE",
        "outputId": "789afc93-cf2d-4e24-9195-f6c454241c81"
      },
      "source": [
        "# return _zconfint_generic(self.mean, self.std_mean, alpha, alternative)\n",
        "z_stat(M, se, alpha, 'two-sided')"
      ],
      "execution_count": 30,
      "outputs": [
        {
          "output_type": "execute_result",
          "data": {
            "text/plain": [
              "(172.3140237765397, 176.08597622346028)"
            ]
          },
          "metadata": {},
          "execution_count": 30
        }
      ]
    },
    {
      "cell_type": "markdown",
      "metadata": {
        "id": "tI5fz_a_v_8A"
      },
      "source": [
        "\n",
        "Ответ: Доверительный интервал [ 172.3140237765397, 176.08597622346028 ]"
      ]
    },
    {
      "cell_type": "markdown",
      "metadata": {
        "id": "FSCZia_kwAh6"
      },
      "source": [
        ""
      ]
    }
  ]
}