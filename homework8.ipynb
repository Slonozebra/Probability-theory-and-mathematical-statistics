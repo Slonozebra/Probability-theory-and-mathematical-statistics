{
  "nbformat": 4,
  "nbformat_minor": 0,
  "metadata": {
    "colab": {
      "name": "homework8.ipynb",
      "provenance": [],
      "collapsed_sections": []
    },
    "kernelspec": {
      "name": "python3",
      "display_name": "Python 3"
    },
    "language_info": {
      "name": "python"
    }
  },
  "cells": [
    {
      "cell_type": "markdown",
      "metadata": {
        "id": "kUvOCjFwtJUC"
      },
      "source": [
        "##**Урок 8. Дисперсионный анализ. Логистическая регрессия**"
      ]
    },
    {
      "cell_type": "markdown",
      "metadata": {
        "id": "L1b6HpHVtNR_"
      },
      "source": [
        "**1.Провести дисперсионный анализ для определения того, есть ли различия среднего роста среди взрослых футболистов, хоккеистов и штангистов. Даны значения роста в трех группах случайно выбранных спортсменов: Футболисты: 173, 175, 180, 178, 177, 185, 183, 182. Хоккеисты: 177, 179, 180, 188, 177, 172, 171, 184, 180. Штангисты: 172, 173, 169, 177, 166, 180, 178, 177, 172, 166, 170.**"
      ]
    },
    {
      "cell_type": "code",
      "metadata": {
        "id": "yBUDbP0VtRBw"
      },
      "source": [
        "import numpy as np \n",
        "from scipy.stats import f_oneway"
      ],
      "execution_count": 1,
      "outputs": []
    },
    {
      "cell_type": "code",
      "metadata": {
        "id": "Hubqu02QuExm"
      },
      "source": [
        "football = np.array([173, 175, 180, 178, 177, 185, 183, 182])\n",
        "hockey = np.array([177, 179, 180, 188, 177, 172, 171, 184, 180])\n",
        "weightlifter = np.array([172, 173, 169, 177, 166, 180, 178, 177, 172, 166, 170])"
      ],
      "execution_count": 2,
      "outputs": []
    },
    {
      "cell_type": "code",
      "metadata": {
        "colab": {
          "base_uri": "https://localhost:8080/"
        },
        "id": "P8E078F1uGfp",
        "outputId": "68324fb1-1675-4c00-936b-e2b2cab8faf9"
      },
      "source": [
        "football_mean = football.mean()\n",
        "football_mean"
      ],
      "execution_count": 3,
      "outputs": [
        {
          "output_type": "execute_result",
          "data": {
            "text/plain": [
              "179.125"
            ]
          },
          "metadata": {},
          "execution_count": 3
        }
      ]
    },
    {
      "cell_type": "code",
      "metadata": {
        "colab": {
          "base_uri": "https://localhost:8080/"
        },
        "id": "FiZzsqMNuIME",
        "outputId": "2979a72f-6178-4df8-f2f6-3c18446c911c"
      },
      "source": [
        "hockey_mean = hockey.mean()\n",
        "hockey_mean"
      ],
      "execution_count": 4,
      "outputs": [
        {
          "output_type": "execute_result",
          "data": {
            "text/plain": [
              "178.66666666666666"
            ]
          },
          "metadata": {},
          "execution_count": 4
        }
      ]
    },
    {
      "cell_type": "code",
      "metadata": {
        "colab": {
          "base_uri": "https://localhost:8080/"
        },
        "id": "0b_smzV8uLB3",
        "outputId": "b850fec3-8f2b-47c0-c119-608711fe4135"
      },
      "source": [
        "weightlifter_mean = weightlifter.mean()\n",
        "weightlifter_mean"
      ],
      "execution_count": 5,
      "outputs": [
        {
          "output_type": "execute_result",
          "data": {
            "text/plain": [
              "172.72727272727272"
            ]
          },
          "metadata": {},
          "execution_count": 5
        }
      ]
    },
    {
      "cell_type": "code",
      "metadata": {
        "colab": {
          "base_uri": "https://localhost:8080/"
        },
        "id": "zFF_xxkUuQUu",
        "outputId": "8e783900-93c7-46cc-a751-1060dc71c60b"
      },
      "source": [
        "Y = np.hstack((football, hockey, weightlifter))\n",
        "Y_mean = Y.mean()\n",
        "Y_mean"
      ],
      "execution_count": 6,
      "outputs": [
        {
          "output_type": "execute_result",
          "data": {
            "text/plain": [
              "176.46428571428572"
            ]
          },
          "metadata": {},
          "execution_count": 6
        }
      ]
    },
    {
      "cell_type": "code",
      "metadata": {
        "colab": {
          "base_uri": "https://localhost:8080/"
        },
        "id": "KRKG35Z7uWhk",
        "outputId": "91009e2d-25e0-4ce5-8bc3-9bd5a3d96947"
      },
      "source": [
        "S2_F = (football_mean - Y_mean)**2 * len(football) + (hockey_mean - Y_mean)**2  * len(hockey) + (weightlifter_mean - Y_mean)**2 * len(weightlifter)\n",
        "S2_F"
      ],
      "execution_count": 7,
      "outputs": [
        {
          "output_type": "execute_result",
          "data": {
            "text/plain": [
              "253.9074675324678"
            ]
          },
          "metadata": {},
          "execution_count": 7
        }
      ]
    },
    {
      "cell_type": "code",
      "metadata": {
        "colab": {
          "base_uri": "https://localhost:8080/"
        },
        "id": "uoA5hpaFuehg",
        "outputId": "c01d85ba-2ac2-49b4-8d26-b64c2e86db57"
      },
      "source": [
        "\n",
        "S2_res = ((football - football_mean)**2).sum() + ((hockey - hockey_mean)**2).sum() + ((weightlifter - weightlifter_mean)**2).sum()\n",
        "S2_res"
      ],
      "execution_count": 8,
      "outputs": [
        {
          "output_type": "execute_result",
          "data": {
            "text/plain": [
              "577.0568181818182"
            ]
          },
          "metadata": {},
          "execution_count": 8
        }
      ]
    },
    {
      "cell_type": "code",
      "metadata": {
        "colab": {
          "base_uri": "https://localhost:8080/"
        },
        "id": "-gTPIIURug2j",
        "outputId": "4bb41492-a2d4-49ff-d376-a915d9fbfc82"
      },
      "source": [
        "\n",
        "q2_F = S2_F / (3 - 1)\n",
        "q2_F"
      ],
      "execution_count": 9,
      "outputs": [
        {
          "output_type": "execute_result",
          "data": {
            "text/plain": [
              "126.9537337662339"
            ]
          },
          "metadata": {},
          "execution_count": 9
        }
      ]
    },
    {
      "cell_type": "code",
      "metadata": {
        "colab": {
          "base_uri": "https://localhost:8080/"
        },
        "id": "lXlneLiYujIw",
        "outputId": "d834ab37-dded-47bd-a8de-da58c21ac799"
      },
      "source": [
        "q2_res = S2_res / (len(Y) - 3)\n",
        "q2_res"
      ],
      "execution_count": 10,
      "outputs": [
        {
          "output_type": "execute_result",
          "data": {
            "text/plain": [
              "23.08227272727273"
            ]
          },
          "metadata": {},
          "execution_count": 10
        }
      ]
    },
    {
      "cell_type": "code",
      "metadata": {
        "colab": {
          "base_uri": "https://localhost:8080/"
        },
        "id": "szwhi1gNumNS",
        "outputId": "60f4c813-12e1-4cb5-e2e4-87f941ab0b88"
      },
      "source": [
        "F_H = q2_F / q2_res\n",
        "F_H"
      ],
      "execution_count": 11,
      "outputs": [
        {
          "output_type": "execute_result",
          "data": {
            "text/plain": [
              "5.500053450812598"
            ]
          },
          "metadata": {},
          "execution_count": 11
        }
      ]
    },
    {
      "cell_type": "markdown",
      "metadata": {
        "id": "uxBoCdUmuw04"
      },
      "source": [
        "$F_H = \\frac{\\sigma^2_F}{\\sigma^2_{\\text{ост}}} = 5.500$ \n",
        "\n",
        "$F_{\\text{крит.}} = 3.38 \\quad \\text{при }\\alpha = 0.05$\n",
        "\n",
        "$5.500 > 3.38$"
      ]
    },
    {
      "cell_type": "code",
      "metadata": {
        "colab": {
          "base_uri": "https://localhost:8080/"
        },
        "id": "XUFo1Rumu5dQ",
        "outputId": "6b2db8ad-81ca-41c2-afb0-6bdf0434f775"
      },
      "source": [
        "\n",
        "f_oneway(football, hockey, weightlifter)"
      ],
      "execution_count": 12,
      "outputs": [
        {
          "output_type": "execute_result",
          "data": {
            "text/plain": [
              "F_onewayResult(statistic=5.500053450812596, pvalue=0.010482206918698694)"
            ]
          },
          "metadata": {},
          "execution_count": 12
        }
      ]
    },
    {
      "cell_type": "markdown",
      "metadata": {
        "id": "afvQFAVivHX9"
      },
      "source": [
        "Различия между группами статистически значимы на уровне значимости 0.05."
      ]
    }
  ]
}