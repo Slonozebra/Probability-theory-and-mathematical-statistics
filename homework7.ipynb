{
  "nbformat": 4,
  "nbformat_minor": 0,
  "metadata": {
    "colab": {
      "name": "homework7.ipynb",
      "provenance": [],
      "collapsed_sections": []
    },
    "kernelspec": {
      "name": "python3",
      "display_name": "Python 3"
    },
    "language_info": {
      "name": "python"
    }
  },
  "cells": [
    {
      "cell_type": "code",
      "metadata": {
        "id": "gmZlKmp-TKi0"
      },
      "source": [
        ""
      ],
      "execution_count": null,
      "outputs": []
    },
    {
      "cell_type": "markdown",
      "metadata": {
        "id": "n5sM_acaTM2k"
      },
      "source": [
        "**Урок 7. Многомерный статистический анализ. Линейная регрессия**"
      ]
    },
    {
      "cell_type": "markdown",
      "metadata": {
        "id": "ZZsEJMrMTQVg"
      },
      "source": [
        "1.Даны значения величины заработной платы заемщиков банка (zp) и значения их поведенческого кредитного скоринга (ks): zp = [35, 45, 190, 200, 40, 70, 54, 150, 120, 110], ks = [401, 574, 874, 919, 459, 739, 653, 902, 746, 832]. Используя математические операции, посчитать коэффициенты линейной регрессии, приняв за X заработную плату (то есть, zp - признак), а за y - значения скорингового балла (то есть, ks - целевая переменная). Произвести расчет как с использованием intercept, так и без."
      ]
    },
    {
      "cell_type": "code",
      "metadata": {
        "id": "96LPryyiTdlB"
      },
      "source": [
        "import pandas as pd\n",
        "import numpy as np\n",
        "import matplotlib.pyplot as plt\n",
        "%matplotlib inline"
      ],
      "execution_count": 1,
      "outputs": []
    },
    {
      "cell_type": "code",
      "metadata": {
        "id": "rs7tT6tuTkkv"
      },
      "source": [
        "\n",
        "df = pd.DataFrame({'zp': [35, 45, 190, 200, 40, 70, 54, 150, 120, 110],\\\n",
        "                   'ks': [401, 574, 874, 919, 459, 739, 653, 902, 746, 832]})"
      ],
      "execution_count": 2,
      "outputs": []
    },
    {
      "cell_type": "markdown",
      "metadata": {
        "id": "2-O9oQG6Ta-8"
      },
      "source": [
        "$b = \\frac{\\overline{yx} - \\overline{y} \\cdot \\overline{x}}{\\overline{x^2} - (\\overline{x})^2}$\n",
        "$a = \\overline{y} - b \\cdot (\\overline{x})^2$"
      ]
    },
    {
      "cell_type": "code",
      "metadata": {
        "colab": {
          "base_uri": "https://localhost:8080/"
        },
        "id": "rlIV6-UzTnDG",
        "outputId": "1072a959-a6b4-4e6b-ca6d-c70b1200cf5f"
      },
      "source": [
        "\n",
        "b = (np.mean(df.zp * df.ks) - np.mean(df.zp) * np.mean(df.ks)) / (np.mean(df.zp**2) - np.mean(df.zp) ** 2)\n",
        "a = np.mean(df.ks) - b * np.mean(df.zp)\n",
        "print(f'y = {a} + {b}x')"
      ],
      "execution_count": 3,
      "outputs": [
        {
          "output_type": "stream",
          "text": [
            "y = 444.1773573243596 + 2.620538882402765x\n"
          ],
          "name": "stdout"
        }
      ]
    },
    {
      "cell_type": "code",
      "metadata": {
        "colab": {
          "base_uri": "https://localhost:8080/",
          "height": 282
        },
        "id": "Js9s1lLgTpVc",
        "outputId": "d0b292bf-3f41-4562-9499-3e1a6251d89c"
      },
      "source": [
        "plt.scatter(df.zp, df.ks)\n",
        "t = np.arange(0, 200, 1)\n",
        "v = a + b * t\n",
        "plt.plot(t, v, color='r')"
      ],
      "execution_count": 4,
      "outputs": [
        {
          "output_type": "execute_result",
          "data": {
            "text/plain": [
              "[<matplotlib.lines.Line2D at 0x7f88f8f2a490>]"
            ]
          },
          "metadata": {},
          "execution_count": 4
        },
        {
          "output_type": "display_data",
          "data": {
            "image/png": "[encoded data removed]",
            "text/plain": [
              "<Figure size 432x288 with 1 Axes>"
            ]
          },
          "metadata": {
            "needs_background": "light"
          }
        }
      ]
    },
    {
      "cell_type": "markdown",
      "metadata": {
        "id": "hCBhQhhTThyP"
      },
      "source": [
        "$\\hat{B} = (X^T \\times X)^{-1} \\times X^T \\times Y$\n"
      ]
    },
    {
      "cell_type": "code",
      "metadata": {
        "id": "J1XqoQVNTswv"
      },
      "source": [
        "X = df.zp.values.reshape((10,1))\n",
        "y = df.ks.values.reshape((10,1))"
      ],
      "execution_count": 5,
      "outputs": []
    },
    {
      "cell_type": "code",
      "metadata": {
        "colab": {
          "base_uri": "https://localhost:8080/"
        },
        "id": "HCRrGHgtTwDJ",
        "outputId": "f38af232-c127-49a9-b973-921ee4dbe0e2"
      },
      "source": [
        "np.linalg.inv(X.T @ X) @ X.T @ y"
      ],
      "execution_count": 6,
      "outputs": [
        {
          "output_type": "execute_result",
          "data": {
            "text/plain": [
              "array([[5.88982042]])"
            ]
          },
          "metadata": {},
          "execution_count": 6
        }
      ]
    },
    {
      "cell_type": "code",
      "metadata": {
        "id": "WXk2fCtKTyeJ"
      },
      "source": [
        "X = df.zp.values.reshape((10,1))\n",
        "X = np.hstack([np.ones((10, 1)), X])\n",
        "y = df.ks.values.reshape((10,1))"
      ],
      "execution_count": 7,
      "outputs": []
    },
    {
      "cell_type": "code",
      "metadata": {
        "colab": {
          "base_uri": "https://localhost:8080/"
        },
        "id": "YIDQ7HNuT0cd",
        "outputId": "a7034198-206c-44c0-f1f8-fab3b7f754ce"
      },
      "source": [
        "np.linalg.inv(X.T @ X) @ X.T @ y"
      ],
      "execution_count": 8,
      "outputs": [
        {
          "output_type": "execute_result",
          "data": {
            "text/plain": [
              "array([[444.17735732],\n",
              "       [  2.62053888]])"
            ]
          },
          "metadata": {},
          "execution_count": 8
        }
      ]
    },
    {
      "cell_type": "markdown",
      "metadata": {
        "id": "Mz2fhFi5T6GG"
      },
      "source": [
        "2.Посчитать коэффициент линейной регрессии при заработной плате (zp), используя градиентный спуск (без intercept)."
      ]
    },
    {
      "cell_type": "code",
      "metadata": {
        "id": "1QQXGKf2T7Q9"
      },
      "source": [
        "X = df.zp.values\n",
        "y = df.ks.values"
      ],
      "execution_count": 9,
      "outputs": []
    },
    {
      "cell_type": "code",
      "metadata": {
        "colab": {
          "base_uri": "https://localhost:8080/"
        },
        "id": "_7o2-b3DUAeN",
        "outputId": "414e1505-e5fe-4d55-e8ad-1f3f6790fb10"
      },
      "source": [
        "w1 = 0.1\n",
        "alpha = 1e-6\n",
        "epsilon = 1\n",
        "n = X.shape[0]\n",
        "i = 0\n",
        "\n",
        "while abs(epsilon) > alpha:\n",
        "    w_prev = w1\n",
        "    w1 -= alpha * (2/n) * np.sum((w1 * X - y) * X)\n",
        "    epsilon = w_prev - w1\n",
        "    i += 1\n",
        "\n",
        "print(f'y = {w1} * x. Коэффициент найден за {i} итераций, с точностью {alpha}.')"
      ],
      "execution_count": 10,
      "outputs": [
        {
          "output_type": "stream",
          "text": [
            "y = 5.8897853464590435 * x. Коэффициент найден за 430 итераций, с точностью 1e-06.\n"
          ],
          "name": "stdout"
        }
      ]
    },
    {
      "cell_type": "code",
      "metadata": {
        "colab": {
          "base_uri": "https://localhost:8080/",
          "height": 282
        },
        "id": "diE8SICuUCiz",
        "outputId": "4620fe9c-02d4-4549-99e5-ce4486fa3605"
      },
      "source": [
        "plt.scatter(df.zp, df.ks)\n",
        "t = np.arange(0, 200, 1)\n",
        "v = w1 * t\n",
        "plt.plot(t, v, color='r')"
      ],
      "execution_count": 11,
      "outputs": [
        {
          "output_type": "execute_result",
          "data": {
            "text/plain": [
              "[<matplotlib.lines.Line2D at 0x7f88e9e06210>]"
            ]
          },
          "metadata": {},
          "execution_count": 11
        },
        {
          "output_type": "display_data",
          "data": {
            "image/png": "[encoded data removed]",
            "text/plain": [
              "<Figure size 432x288 with 1 Axes>"
            ]
          },
          "metadata": {
            "needs_background": "light"
          }
        }
      ]
    },
    {
      "cell_type": "markdown",
      "metadata": {
        "id": "oGE7zJkJUHJy"
      },
      "source": [
        "3.В каких случаях для вычисления доверительных интервалов и проверки статистических гипотез используется таблица значений функции Лапласа, а в каких - таблица критических точек распределения Стьюдента? *4. Произвести вычисления как в пункте 2, но с вычислением intercept. Учесть, что изменение коэффициентов должно производиться на каждом шаге одновременно (то есть изменение одного коэффициента не должно влиять на изменение другого во время одной итерации)."
      ]
    },
    {
      "cell_type": "code",
      "metadata": {
        "colab": {
          "base_uri": "https://localhost:8080/"
        },
        "id": "Umk8kq22UIAb",
        "outputId": "b9a4bdca-ca06-457f-dfa0-c439b5dc3491"
      },
      "source": [
        "w0 = 442\n",
        "w1 = 0.1\n",
        "alpha = 1e-6\n",
        "epsilon0 = 1\n",
        "epsilon1 = 1\n",
        "n = X.shape[0]\n",
        "i = 0\n",
        "\n",
        "while abs(epsilon0) > alpha or abs(epsilon1) > alpha:\n",
        "    w0_prev = w0\n",
        "    w1_prev = w1\n",
        "    w1 -= alpha * (2/n) * np.sum((w0 + w1 * X - y) * X)\n",
        "    w0 -= alpha * (2/n) * np.sum((w0 + w1 * X - y))\n",
        "    epsilon0 = w0_prev - w0\n",
        "    epsilon1 = w1_prev - w1\n",
        "    i += 1\n",
        "\n",
        "print(f'y = {w0} + {w1} * x. Коэффициент найден за {i} итераций, с точностью {alpha}.')"
      ],
      "execution_count": 12,
      "outputs": [
        {
          "output_type": "stream",
          "text": [
            "y = 442.2061503441162 + 2.635047837298424 * x. Коэффициент найден за 179563 итераций, с точностью 1e-06.\n"
          ],
          "name": "stdout"
        }
      ]
    },
    {
      "cell_type": "code",
      "metadata": {
        "colab": {
          "base_uri": "https://localhost:8080/",
          "height": 282
        },
        "id": "Sn93yQ_wURbX",
        "outputId": "9ea5a1aa-d20c-4e62-cb4d-2c6be44d43f1"
      },
      "source": [
        "plt.scatter(df.zp, df.ks)\n",
        "t = np.arange(0, 200, 1)\n",
        "v = w0 + w1 * t\n",
        "plt.plot(t, v, color='r')"
      ],
      "execution_count": 13,
      "outputs": [
        {
          "output_type": "execute_result",
          "data": {
            "text/plain": [
              "[<matplotlib.lines.Line2D at 0x7f88e9d86550>]"
            ]
          },
          "metadata": {},
          "execution_count": 13
        },
        {
          "output_type": "display_data",
          "data": {
            "image/png": "[encoded data removed]",
            "text/plain": [
              "<Figure size 432x288 with 1 Axes>"
            ]
          },
          "metadata": {
            "needs_background": "light"
          }
        }
      ]
    }
  ]
}