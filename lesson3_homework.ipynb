{
  "nbformat": 4,
  "nbformat_minor": 0,
  "metadata": {
    "colab": {
      "name": "lesson3_homework.ipynb",
      "provenance": [],
      "collapsed_sections": []
    },
    "kernelspec": {
      "name": "python3",
      "display_name": "Python 3"
    },
    "language_info": {
      "name": "python"
    }
  },
  "cells": [
    {
      "cell_type": "markdown",
      "metadata": {
        "id": "I-W8GdzyaOBQ"
      },
      "source": [
        "**Урок 3. Описательная статистика. Качественные и количественные характеристики популяции. Графическое представление данных**"
      ]
    },
    {
      "cell_type": "code",
      "metadata": {
        "id": "sCXUnWbLdtcz"
      },
      "source": [
        "# Подключаем библиотеки\n",
        "import numpy as np\n",
        "from math import factorial\n",
        "\n",
        "# Функция для вычисления количества сочетаний\n",
        "def сombination (n, k):\n",
        "    return int(factorial(n) / (factorial(k) * factorial(n - k)))"
      ],
      "execution_count": 1,
      "outputs": []
    },
    {
      "cell_type": "markdown",
      "metadata": {
        "id": "6dxvIzGgaS2Z"
      },
      "source": [
        "**1.Даны значения зарплат из выборки выпускников: 100, 80, 75, 77, 89, 33, 45, 25, 65, 17, 30, 24, 57, 55, 70, 75, 65, 84, 90, 150. Посчитать (желательно без использования статистических методов наподобие std, var, mean) среднее арифметическое, среднее квадратичное отклонение, смещенную и несмещенную оценки дисперсий для данной выборки.**"
      ]
    },
    {
      "cell_type": "code",
      "metadata": {
        "id": "XIFDh6Rtd0qS"
      },
      "source": [
        "salary = np.array([100, 80, 75, 77, 89, 33, 45, 25, 65, 17, 30, 24, 57, 55, 70, 75, 65, 84, 90, 150])"
      ],
      "execution_count": 2,
      "outputs": []
    },
    {
      "cell_type": "markdown",
      "metadata": {
        "id": "QbCXsJf6aXqD"
      },
      "source": [
        "Среднее арифметическое\n",
        "$\\overline{x} = \\frac{100 + 80 + 75 + 77 + 89 + 33 + 45 + 25 + 65 + 17 + 30 + 24 + 57 + 55 + 70 + 75 + 65 + 84 + 90 + 150}{20} = 65.3$"
      ]
    },
    {
      "cell_type": "code",
      "metadata": {
        "colab": {
          "base_uri": "https://localhost:8080/"
        },
        "id": "dkDIj2f-eLk6",
        "outputId": "70d03453-11b1-4b42-89d5-3e37860d962b"
      },
      "source": [
        "\n",
        "salary.mean()"
      ],
      "execution_count": 3,
      "outputs": [
        {
          "output_type": "execute_result",
          "data": {
            "text/plain": [
              "65.3"
            ]
          },
          "metadata": {
            "tags": []
          },
          "execution_count": 3
        }
      ]
    },
    {
      "cell_type": "markdown",
      "metadata": {
        "id": "CNvT6YmLeV1B"
      },
      "source": [
        "Ответ: среднее арифметическое 65,3"
      ]
    },
    {
      "cell_type": "markdown",
      "metadata": {
        "id": "pDgLbVSdeb_C"
      },
      "source": [
        "Среднее квадратичное отклонение\n",
        "$\\sigma = \\sqrt{\\frac{\\displaystyle\\sum_{i=1}^{n} (x_i - \\overline{x})}{n}} =$\n",
        "\n",
        "$\\sqrt{\\frac{(100 - 65.3)^2 + (80 - 65.3)^2 + (75 - 65.3)^2 + (77 - 65.3)^2 + (89 - 65.3)^2 + (33 - 65.3)^2 + (45 - 65.3)^2 + (25 - 65.3)^2 + (65 - 65.3)^2 + (17 - 65.3)^2 + (30 - 65.3)^2 + (24 - 65.3)^2 + (57 - 65.3)^2 + (55 - 65.3)^2 + (70 - 65.3)^2 + (75 - 65.3)^2 + (65 - 65.3)^2 + (84 - 65.3)^2 + (90 - 65.3)^2 + (150 - 65.3)^2}{20}}=30.82$"
      ]
    },
    {
      "cell_type": "code",
      "metadata": {
        "colab": {
          "base_uri": "https://localhost:8080/"
        },
        "id": "FkTPQIEnehQ6",
        "outputId": "bfea00a5-02a3-41aa-d689-f8baa4c96971"
      },
      "source": [
        "salary.std()"
      ],
      "execution_count": 4,
      "outputs": [
        {
          "output_type": "execute_result",
          "data": {
            "text/plain": [
              "30.823854398825596"
            ]
          },
          "metadata": {
            "tags": []
          },
          "execution_count": 4
        }
      ]
    },
    {
      "cell_type": "markdown",
      "metadata": {
        "id": "xfHdcCDTeuzP"
      },
      "source": [
        "Ответ: среднее квадратичное отклонение 30,82"
      ]
    },
    {
      "cell_type": "markdown",
      "metadata": {
        "id": "RjJK9ZkAfOol"
      },
      "source": [
        "Смещенная оценка дисперсии\n",
        "$\\overline{\\sigma}^2 = \\frac{\\displaystyle\\sum_{i=1}^{n} (x_i - \\overline{x})}{n} =$\n",
        "\n",
        "$= \\frac{(100 - 65.3)^2 + (80 - 65.3)^2 + (75 - 65.3)^2 + (77 - 65.3)^2 + (89 - 65.3)^2 + (33 - 65.3)^2 + (45 - 65.3)^2 + (25 - 65.3)^2 + (65 - 65.3)^2 + (17 - 65.3)^2 + (30 - 65.3)^2 + (24 - 65.3)^2 + (57 - 65.3)^2 + (55 - 65.3)^2 + (70 - 65.3)^2 + (75 - 65.3)^2 + (65 - 65.3)^2 + (84 - 65.3)^2 + (90 - 65.3)^2 + (150 - 65.3)^2}{20}=950.11$"
      ]
    },
    {
      "cell_type": "code",
      "metadata": {
        "colab": {
          "base_uri": "https://localhost:8080/"
        },
        "id": "tKjZTZS2fQh7",
        "outputId": "ecec9798-b527-407b-8d1b-edc402be4402"
      },
      "source": [
        "salary.var()"
      ],
      "execution_count": 5,
      "outputs": [
        {
          "output_type": "execute_result",
          "data": {
            "text/plain": [
              "950.11"
            ]
          },
          "metadata": {
            "tags": []
          },
          "execution_count": 5
        }
      ]
    },
    {
      "cell_type": "markdown",
      "metadata": {
        "id": "zpZ8kvvhf2jn"
      },
      "source": [
        "Ответ: Смещенная оценка дисперсии 950,11"
      ]
    },
    {
      "cell_type": "markdown",
      "metadata": {
        "id": "ZNwlXigCf6jJ"
      },
      "source": [
        "Несмещенная оценка дисперсии\n",
        "$\\widetilde{\\sigma}^2 = \\frac{\\displaystyle\\sum_{i=1}^{n} (x_i - \\overline{x})}{n-1} =$\n",
        "\n",
        "$= \\frac{(100 - 65.3)^2 + (80 - 65.3)^2 + (75 - 65.3)^2 + (77 - 65.3)^2 + (89 - 65.3)^2 + (33 - 65.3)^2 + (45 - 65.3)^2 + (25 - 65.3)^2 + (65 - 65.3)^2 + (17 - 65.3)^2 + (30 - 65.3)^2 + (24 - 65.3)^2 + (57 - 65.3)^2 + (55 - 65.3)^2 + (70 - 65.3)^2 + (75 - 65.3)^2 + (65 - 65.3)^2 + (84 - 65.3)^2 + (90 - 65.3)^2 + (150 - 65.3)^2}{20-1}=1000.12$"
      ]
    },
    {
      "cell_type": "code",
      "metadata": {
        "colab": {
          "base_uri": "https://localhost:8080/"
        },
        "id": "SL5OiiI0f_j-",
        "outputId": "0a5d6691-5352-427c-f9f0-541155fe938b"
      },
      "source": [
        "salary.var(ddof=1)"
      ],
      "execution_count": 6,
      "outputs": [
        {
          "output_type": "execute_result",
          "data": {
            "text/plain": [
              "1000.1157894736842"
            ]
          },
          "metadata": {
            "tags": []
          },
          "execution_count": 6
        }
      ]
    },
    {
      "cell_type": "markdown",
      "metadata": {
        "id": "iibq8lC1gIpK"
      },
      "source": [
        "Ответ: Несмещенная оценка дисперсии 1000,12\n"
      ]
    },
    {
      "cell_type": "markdown",
      "metadata": {
        "id": "jrtUR1CqgP3B"
      },
      "source": [
        "**2. В первом ящике находится 8 мячей, из которых 5 - белые. Во втором ящике - 12 мячей, из которых 5 белых. Из первого ящика вытаскивают случайным образом два мяча, из второго - 4. Какова вероятность того, что 3 мяча белые?**"
      ]
    },
    {
      "cell_type": "markdown",
      "metadata": {
        "id": "M3u5n3yFgeTf"
      },
      "source": [
        "Вероятность, что из первого ящика вытащили два белых мяча и одни из второго:\n",
        "\n",
        "$P = \\frac{5}{8} \\cdot \\frac{4}{7} \\cdot \\left(\\frac{5}{12} \\cdot \\frac{7}{11} \\cdot  \\frac{6}{10} \\cdot  \\frac{5}{9} + \\frac{7}{12} \\cdot \\frac{5}{11} \\cdot  \\frac{6}{10} \\cdot  \\frac{5}{9} + \\frac{7}{12} \\cdot \\frac{6}{11} \\cdot  \\frac{5}{10} \\cdot  \\frac{5}{9} + \\frac{7}{12} \\cdot \\frac{6}{11} \\cdot  \\frac{5}{10} \\cdot  \\frac{5}{9}\\right) = 0.12626$"
      ]
    },
    {
      "cell_type": "code",
      "metadata": {
        "colab": {
          "base_uri": "https://localhost:8080/"
        },
        "id": "rLmFbaC6hGwS",
        "outputId": "8bf1a319-4c6d-43d0-ad17-a953b694fc2b"
      },
      "source": [
        "P_a = сombination(5, 2) / сombination(8, 2) * сombination(5, 1) * сombination(7, 3) / сombination(12, 4)\n",
        "P_a"
      ],
      "execution_count": 7,
      "outputs": [
        {
          "output_type": "execute_result",
          "data": {
            "text/plain": [
              "0.12626262626262627"
            ]
          },
          "metadata": {
            "tags": []
          },
          "execution_count": 7
        }
      ]
    },
    {
      "cell_type": "markdown",
      "metadata": {
        "id": "jJTk_ZdohusY"
      },
      "source": [
        "Вероятность, что из первого ящика вытащили только один белый мяч и только два из второго:"
      ]
    },
    {
      "cell_type": "code",
      "metadata": {
        "colab": {
          "base_uri": "https://localhost:8080/"
        },
        "id": "monxRsP0hvaE",
        "outputId": "3e82067a-f2a0-4b8c-b449-9b33929e6a05"
      },
      "source": [
        "P_b = сombination(5, 1) * сombination(3, 1) / сombination(8, 2) * сombination(5, 2) * сombination(7, 2) / сombination(12, 4)\n",
        "P_b"
      ],
      "execution_count": 8,
      "outputs": [
        {
          "output_type": "execute_result",
          "data": {
            "text/plain": [
              "0.22727272727272724"
            ]
          },
          "metadata": {
            "tags": []
          },
          "execution_count": 8
        }
      ]
    },
    {
      "cell_type": "markdown",
      "metadata": {
        "id": "loNdfG4UhzCF"
      },
      "source": [
        "Вероятность, что из первого ящика вытащили ни одного белого мяча и три из второго:"
      ]
    },
    {
      "cell_type": "code",
      "metadata": {
        "colab": {
          "base_uri": "https://localhost:8080/"
        },
        "id": "XLKe5SL6hzoq",
        "outputId": "c6fabea5-c973-43f3-d691-b8bdcb873878"
      },
      "source": [
        "P_c = сombination(3, 2) / сombination(8, 2) * сombination(5, 3) * сombination(7, 1) / сombination(12, 4)\n",
        "P_c"
      ],
      "execution_count": 9,
      "outputs": [
        {
          "output_type": "execute_result",
          "data": {
            "text/plain": [
              "0.015151515151515152"
            ]
          },
          "metadata": {
            "tags": []
          },
          "execution_count": 9
        }
      ]
    },
    {
      "cell_type": "code",
      "metadata": {
        "colab": {
          "base_uri": "https://localhost:8080/"
        },
        "id": "fy_cv2jph3vG",
        "outputId": "0ecee7c6-d718-4a94-9238-b019a30dc952"
      },
      "source": [
        "P = P_a + P_b + P_c\n",
        "P"
      ],
      "execution_count": 10,
      "outputs": [
        {
          "output_type": "execute_result",
          "data": {
            "text/plain": [
              "0.3686868686868686"
            ]
          },
          "metadata": {
            "tags": []
          },
          "execution_count": 10
        }
      ]
    },
    {
      "cell_type": "markdown",
      "metadata": {
        "id": "uAYM5ErLh8DF"
      },
      "source": [
        "Ответ: вероятность того, что 3 мяча белые - 0,368"
      ]
    },
    {
      "cell_type": "markdown",
      "metadata": {
        "id": "GdkaJ95viCq0"
      },
      "source": [
        "**3.На соревновании по биатлону один из трех спортсменов стреляет и попадает в мишень. Вероятность попадания для первого спортсмена равна 0.9, для второго — 0.8, для третьего — 0.6. Найти вероятность того, что выстрел произведен: a). первым спортсменом б). вторым спортсменом в). третьим спортсменом.**"
      ]
    },
    {
      "cell_type": "markdown",
      "metadata": {
        "id": "uYkTG1APihXM"
      },
      "source": [
        "а) $P_1=\\frac{\\frac{1}{3}\\cdot0.9}{\\frac{1}{3}\\cdot0.9+\\frac{1}{3}\\cdot0.8+\\frac{1}{3}\\cdot0.6} = 0.3913$\n",
        "\n",
        "б) $P_2 =\\frac{\\frac{1}{3}\\cdot0.8}{\\frac{1}{3}\\cdot0.9+\\frac{1}{3}\\cdot0.8+\\frac{1}{3}\\cdot0.6} = 0.34783$\n",
        "\n",
        "в) $P_3=\\frac{\\frac{1}{3}\\cdot0.6}{\\frac{1}{3}\\cdot0.9+\\frac{1}{3}\\cdot0.8+\\frac{1}{3}\\cdot0.6} = 0.26087$"
      ]
    },
    {
      "cell_type": "markdown",
      "metadata": {
        "id": "9lahi2DMjCrx"
      },
      "source": [
        "**4.В университет на факультеты A и B поступило равное количество студентов, а на факультет C студентов поступило столько же, сколько на A и B вместе. Вероятность того, что студент факультета A сдаст первую сессию, равна 0.8. Для студента факультета B эта вероятность равна 0.7, а для студента факультета C - 0.9. Студент сдал первую сессию. Какова вероятность, что он учится: a). на факультете A б). на факультете B в). на факультете C?**"
      ]
    },
    {
      "cell_type": "markdown",
      "metadata": {
        "id": "7GgyEkrukgnJ"
      },
      "source": [
        "а) $P_a=\\frac{\\frac{1}{4}\\cdot0.8}{\\frac{1}{4}\\cdot0.8+\\frac{1}{4}\\cdot0.7+\\frac{1}{2}\\cdot0.9} = 0.24242$\n",
        "\n",
        "б) $P_b=\\frac{\\frac{1}{4}\\cdot0.7}{\\frac{1}{4}\\cdot0.8+\\frac{1}{4}\\cdot0.7+\\frac{1}{2}\\cdot0.9} = 0.21212$\n",
        "\n",
        "в) $P_c=\\frac{\\frac{1}{2}\\cdot0.9}{\\frac{1}{4}\\cdot0.8+\\frac{1}{4}\\cdot0.7+\\frac{1}{2}\\cdot0.9} = 0.54545$"
      ]
    },
    {
      "cell_type": "markdown",
      "metadata": {
        "id": "7boQCb2BkhhT"
      },
      "source": [
        "**5.Устройство состоит из трех деталей. Для первой детали вероятность выйти из строя в первый месяц равна 0.1, для второй - 0.2, для третьей - 0.25. Какова вероятность того, что в первый месяц выйдут из строя: а). все детали б). только две детали в). хотя бы одна деталь г). от одной до двух деталей?**"
      ]
    },
    {
      "cell_type": "markdown",
      "metadata": {
        "id": "3SWqBoDzlE5Q"
      },
      "source": [
        "\n",
        "а) $0.1 \\cdot 0.2 \\cdot 0.25 = 0.005$\n",
        "\n",
        "б) $(1-0.1) \\cdot 0.2\\cdot 0.25 + 0.1 \\cdot (1-0.2) \\cdot 0.25 + 0.1 \\cdot 0.2 \\cdot (1- 0.25) = 0.08$\n",
        "\n",
        "в) $1-\\left((1-0.1)\\cdot(1-0.2)\\cdot(1-0.25)\\right) = 0.46$\n",
        "\n",
        "г) $\\left((1-0.1)\\cdot\\left(1-0.2\\right)\\cdot0.25+\\left(1-0.1\\right)\\cdot0.2\\cdot\\left(1-0.25\\right)+0.1\\cdot\\left(1-0.2\\right)\\cdot(1-0.25)\\right)+\\left((1-0.1)\\cdot0.2\\cdot0.25+0.1\\cdot(1-0.2)\\cdot0.25+0.1\\cdot0.2\\cdot(1-0.25)\\right) = 0.455$\n"
      ]
    },
    {
      "cell_type": "markdown",
      "metadata": {
        "id": "MwTSOiSDljeh"
      },
      "source": [
        "Ответ: вероятность того, что в первый месяц выйдут из строя\n",
        "А) все детали - 0,005\n",
        "Б) только две детали - 0,08\n",
        "В)хотя бы одна деталь - 0,46\n",
        "Г)от одной до двух детайлей - 0,45"
      ]
    },
    {
      "cell_type": "markdown",
      "metadata": {
        "id": "B4HDenfVl99K"
      },
      "source": [
        ""
      ]
    }
  ]
}