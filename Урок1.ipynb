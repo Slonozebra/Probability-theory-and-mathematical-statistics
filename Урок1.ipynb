{
  "nbformat": 4,
  "nbformat_minor": 0,
  "metadata": {
    "colab": {
      "name": "Урок1.ipynb",
      "provenance": [],
      "collapsed_sections": []
    },
    "kernelspec": {
      "name": "python3",
      "display_name": "Python 3"
    },
    "language_info": {
      "name": "python"
    }
  },
  "cells": [
    {
      "cell_type": "markdown",
      "metadata": {
        "id": "FhmVhVnnqx4i"
      },
      "source": [
        "**1.Из колоды в 52 карты извлекаются случайным образом 4 карты. a) Найти вероятность того, что все карты – крести. б) Найти вероятность, что среди 4-х карт окажется хотя бы один туз.**"
      ]
    },
    {
      "cell_type": "code",
      "metadata": {
        "id": "gIMFG1-cq3mB"
      },
      "source": [
        "from math import factorial"
      ],
      "execution_count": 1,
      "outputs": []
    },
    {
      "cell_type": "markdown",
      "metadata": {
        "id": "rOHTzWRzrClt"
      },
      "source": [
        "Число сочетаний\n",
        "\n",
        "$$C_{n}^k =\\frac{n!}{k!(n - k)!}$$"
      ]
    },
    {
      "cell_type": "code",
      "metadata": {
        "id": "CudD5GMNrEeW"
      },
      "source": [
        "def combinations(n, k):\n",
        "    # Число сочетаний из  𝑛  элементов по  𝑘  элементов в каждом (в сочетаниях порядок не важен):\n",
        "    return int(factorial(n) / (factorial(k) * factorial(n - k)))"
      ],
      "execution_count": 2,
      "outputs": []
    },
    {
      "cell_type": "markdown",
      "metadata": {
        "id": "VtulkXQTrJgX"
      },
      "source": [
        "Число размещений\n",
        "\n",
        "$$C_{n}^k =\\frac{n!}{(n - k)!}$$"
      ]
    },
    {
      "cell_type": "code",
      "metadata": {
        "id": "DOkDw3nqrODQ"
      },
      "source": [
        "def arrangements(n, k):\n",
        "    # число размещений из  𝑛  элементов по  𝑘  элементов в каждом. При размещениях порядок важен\n",
        "    return int(factorial(n) / factorial(n - k))"
      ],
      "execution_count": 3,
      "outputs": []
    },
    {
      "cell_type": "markdown",
      "metadata": {
        "id": "ME0fUp3OrWSq"
      },
      "source": [
        "Число перестановок\n",
        "\n",
        "$$P_{n} = n!$$"
      ]
    },
    {
      "cell_type": "code",
      "metadata": {
        "id": "XQaXqhTUrbDd"
      },
      "source": [
        "def permutations(n):\n",
        "    # Число перестановок из  𝑛  элементов\n",
        "    return int(factorial(n))"
      ],
      "execution_count": 4,
      "outputs": []
    },
    {
      "cell_type": "markdown",
      "metadata": {
        "id": "dRF-7zr8rnMP"
      },
      "source": [
        "a) Найти вероятность того, что все карты – крести\n",
        "Количество карт масти Крести n= 52/4=13\n",
        "Количество комбинаций из 4 карт масти крести\n",
        "$$C_{13}^4 =\\frac{n!}{k!(n - k)!}= \\frac{13!}{4!(13-4)!}=715, $$\n",
        "$$n=13, k=4$$\n",
        "Возможно 715 комбинаций с 4 картами масти крести. Количество карт масти крести = 14."
      ]
    },
    {
      "cell_type": "code",
      "metadata": {
        "colab": {
          "base_uri": "https://localhost:8080/"
        },
        "id": "-V88RqoBrpAa",
        "outputId": "0fcf449f-e105-4b51-b277-6e339f9697f4"
      },
      "source": [
        "print(int(52/4))\n",
        "C_13_4=combinations(13, 4)\n",
        "C_13_4"
      ],
      "execution_count": 5,
      "outputs": [
        {
          "output_type": "stream",
          "text": [
            "13\n"
          ],
          "name": "stdout"
        },
        {
          "output_type": "execute_result",
          "data": {
            "text/plain": [
              "715"
            ]
          },
          "metadata": {
            "tags": []
          },
          "execution_count": 5
        }
      ]
    },
    {
      "cell_type": "markdown",
      "metadata": {
        "id": "esMU7VSarxJL"
      },
      "source": [
        "Количество комбинаций из 4 карт из колоды в 52 карты$$C_{52}^4 =\\frac{n!}{k!(n - k)!}= \\frac{52!}{4!(52-4)!}=270725, $$$$n=52, k=4$$\n",
        "Возможно 270725 комбинаций с 4 картами из колоды 52 карты."
      ]
    },
    {
      "cell_type": "code",
      "metadata": {
        "colab": {
          "base_uri": "https://localhost:8080/"
        },
        "id": "e-O1z3Mjrxw-",
        "outputId": "5c81ceb2-65c0-41db-b434-7c6e92132154"
      },
      "source": [
        "C_52_4=combinations(52, 4)\n",
        "C_52_4"
      ],
      "execution_count": 6,
      "outputs": [
        {
          "output_type": "execute_result",
          "data": {
            "text/plain": [
              "270725"
            ]
          },
          "metadata": {
            "tags": []
          },
          "execution_count": 6
        }
      ]
    },
    {
      "cell_type": "markdown",
      "metadata": {
        "id": "lUgN2Nipr76p"
      },
      "source": [
        "Вероятнисть того, что все 4 карты крести$$P = \\frac{C_{13}^4}{C_{52}^4}= \\frac{715}{270725}=0.00264 $$"
      ]
    },
    {
      "cell_type": "code",
      "metadata": {
        "colab": {
          "base_uri": "https://localhost:8080/"
        },
        "id": "mgmbTrRwr8iS",
        "outputId": "7b535144-06ac-4811-b99e-55b5c202f654"
      },
      "source": [
        "P=C_13_4/C_52_4\n",
        "P"
      ],
      "execution_count": 7,
      "outputs": [
        {
          "output_type": "execute_result",
          "data": {
            "text/plain": [
              "0.0026410564225690276"
            ]
          },
          "metadata": {
            "tags": []
          },
          "execution_count": 7
        }
      ]
    },
    {
      "cell_type": "markdown",
      "metadata": {
        "id": "ecEjMgcDsCTn"
      },
      "source": [
        "Ответ: Вероятнисть того, что все 4 карты крести P=0,00264"
      ]
    },
    {
      "cell_type": "markdown",
      "metadata": {
        "id": "uzed-5eTsGMV"
      },
      "source": [
        "б) Найти вероятность, что среди 4-х карт окажется хотя бы один туз\n",
        "Событие B={появится хотя бы один туз}\n",
        "52-4=48 - количество карт без 4 тузов\n",
        "Вероятность события B - P(B):\n",
        "$$P(B) = 1-\\frac{C_{48}^4}{C_{52}^4}= 1 - \\frac{194580}{270725}=1 - 0.719 = 0.281$$\n",
        "$C_{48}^4 = 194580$ - Количество комбинаций по 4 карты из колоды в 52 карт из которой убрали 4 туза\n",
        "$C_{52}^4 = 270725$ - Количество комбинаций по 4 карты из колоды в 52 карт\n",
        "1 - полная вероятность\n",
        "${C_{48}^4} / {C_{52}^4}= 0.719$ - Вероятность того, что среди карт не окажется ни одного туза"
      ]
    },
    {
      "cell_type": "code",
      "metadata": {
        "colab": {
          "base_uri": "https://localhost:8080/"
        },
        "id": "ySDexHyBsNeE",
        "outputId": "3a98cac5-35f0-46a5-e952-1cf9854741d5"
      },
      "source": [
        "C_48_4=combinations(48, 4)\n",
        "C_48_4"
      ],
      "execution_count": 8,
      "outputs": [
        {
          "output_type": "execute_result",
          "data": {
            "text/plain": [
              "194580"
            ]
          },
          "metadata": {
            "tags": []
          },
          "execution_count": 8
        }
      ]
    },
    {
      "cell_type": "code",
      "metadata": {
        "colab": {
          "base_uri": "https://localhost:8080/"
        },
        "id": "quOGoRF3sUrn",
        "outputId": "2b216d74-f912-4251-88c8-5aad1fc9ff2c"
      },
      "source": [
        "C_52_4=combinations(52, 4)\n",
        "C_52_4"
      ],
      "execution_count": 9,
      "outputs": [
        {
          "output_type": "execute_result",
          "data": {
            "text/plain": [
              "270725"
            ]
          },
          "metadata": {
            "tags": []
          },
          "execution_count": 9
        }
      ]
    },
    {
      "cell_type": "code",
      "metadata": {
        "colab": {
          "base_uri": "https://localhost:8080/"
        },
        "id": "ftA8Q_39sXNS",
        "outputId": "cc2b1f31-7ea1-4473-d29c-a9ec67c2c4c1"
      },
      "source": [
        "P_b = 1 - C_48_4/C_52_4\n",
        "P_b"
      ],
      "execution_count": 10,
      "outputs": [
        {
          "output_type": "execute_result",
          "data": {
            "text/plain": [
              "0.2812632745405854"
            ]
          },
          "metadata": {
            "tags": []
          },
          "execution_count": 10
        }
      ]
    },
    {
      "cell_type": "markdown",
      "metadata": {
        "id": "LN0PXi_Csagz"
      },
      "source": [
        "Ответ: Вероятность того, что все 4 карты крести P=0,281"
      ]
    },
    {
      "cell_type": "markdown",
      "metadata": {
        "id": "2RPanxeQskLl"
      },
      "source": [
        "**2.На входной двери подъезда установлен кодовый замок, содержащий десять кнопок с цифрами от 0 до 9. Код содержит три цифры, которые нужно нажать одновременно. Какова вероятность того, что человек, не знающий код, откроет дверь с первой попытки?**"
      ]
    },
    {
      "cell_type": "code",
      "metadata": {
        "id": "u-_vT5Hns0Jh"
      },
      "source": [
        "# Функция для вычисления количества сочетаний\n",
        "def сombination (n, k):\n",
        "    return int(factorial(n) / (factorial(k) * factorial(n - k)))"
      ],
      "execution_count": 12,
      "outputs": []
    },
    {
      "cell_type": "code",
      "metadata": {
        "colab": {
          "base_uri": "https://localhost:8080/"
        },
        "id": "cbUTR6NnsuL5",
        "outputId": "c2f566b7-128f-4b09-ca67-cefff184ae64"
      },
      "source": [
        "n = сombination(10, 3)\n",
        "print(f'Количество сочетаний из 3-х цифр от 0 до 9: {n}')"
      ],
      "execution_count": 13,
      "outputs": [
        {
          "output_type": "stream",
          "text": [
            "Количество сочетаний из 3-х цифр от 0 до 9: 120\n"
          ],
          "name": "stdout"
        }
      ]
    },
    {
      "cell_type": "code",
      "metadata": {
        "colab": {
          "base_uri": "https://localhost:8080/"
        },
        "id": "xaHK-3dTs48Q",
        "outputId": "cbb58acd-f74e-4942-baac-e778b146499d"
      },
      "source": [
        "p = 1/n\n",
        "print(f'Вероятность угадать код с первой попытки: {p}')"
      ],
      "execution_count": 14,
      "outputs": [
        {
          "output_type": "stream",
          "text": [
            "Вероятность угадать код с первой попытки: 0.008333333333333333\n"
          ],
          "name": "stdout"
        }
      ]
    },
    {
      "cell_type": "markdown",
      "metadata": {
        "id": "xm5vXtHksppR"
      },
      "source": [
        "Ответ: Вероятность угадать код с первой попытки: 0.00833 или 0.833%"
      ]
    },
    {
      "cell_type": "markdown",
      "metadata": {
        "id": "Be96txWSsbdX"
      },
      "source": [
        "**3.В ящике имеется 15 деталей, из которых 9 окрашены. Рабочий случайным образом извлекает 3 детали. Какова вероятность того, что все извлеченные детали окрашены?**"
      ]
    },
    {
      "cell_type": "markdown",
      "metadata": {
        "id": "jJzwBfh9tOkZ"
      },
      "source": [
        "Решение:\n",
        "Тянем 1-ю деталь, с вероятностью 9/15=3/5 вытянем окрашенную деталь.\n",
        "Тянем 2-ю деталь. Вероятность вытянуть 2-ю окрашенную деталь = 8/14 = 4/7.\n",
        "Тянем 3-ю деталь. Вероятность вытянуть 3-ю окрашенную деталь = 7/13.\n",
        "Вероятность 3 раза подряд вытянуть окрашенную деталь = (3/5)(4/7)(7/13) = 0.18461538461538457 или около 18,5%"
      ]
    },
    {
      "cell_type": "code",
      "metadata": {
        "colab": {
          "base_uri": "https://localhost:8080/"
        },
        "id": "8c0lKnfJtbso",
        "outputId": "d871298b-57d9-49f8-afc7-e7a69bdc1ce5"
      },
      "source": [
        "(3/5)*(4/7)*(7/13)"
      ],
      "execution_count": 15,
      "outputs": [
        {
          "output_type": "execute_result",
          "data": {
            "text/plain": [
              "0.18461538461538457"
            ]
          },
          "metadata": {
            "tags": []
          },
          "execution_count": 15
        }
      ]
    },
    {
      "cell_type": "markdown",
      "metadata": {
        "id": "d98HVb_2tedZ"
      },
      "source": [
        "Ответ: Вероятность 3 раза подряд вытянуть окрашенные детали = 18.5%"
      ]
    },
    {
      "cell_type": "markdown",
      "metadata": {
        "id": "KzyDwskFthhl"
      },
      "source": [
        "**4.В лотерее 100 билетов. Из них 2 выигрышных. Какова вероятность того, что 2 приобретенных билета окажутся выигрышными?**"
      ]
    },
    {
      "cell_type": "code",
      "metadata": {
        "colab": {
          "base_uri": "https://localhost:8080/"
        },
        "id": "ifOZE9WpuIOh",
        "outputId": "0ff1f281-4ff1-48dc-af8b-6f2b7a979d78"
      },
      "source": [
        "n = сombination(100, 2)\n",
        "print(f'Общее число исходов, из 2-х билетов: {n}')"
      ],
      "execution_count": 16,
      "outputs": [
        {
          "output_type": "stream",
          "text": [
            "Общее число исходов, из 2-х билетов: 4950\n"
          ],
          "name": "stdout"
        }
      ]
    },
    {
      "cell_type": "code",
      "metadata": {
        "colab": {
          "base_uri": "https://localhost:8080/"
        },
        "id": "nsxGtrR9uQ1A",
        "outputId": "8b4fc65d-ceec-4164-aa41-b85f104f3b74"
      },
      "source": [
        "m = сombination(2, 2)\n",
        "print(f'Количество положительных исходов: {m}')"
      ],
      "execution_count": 17,
      "outputs": [
        {
          "output_type": "stream",
          "text": [
            "Количество положительных исходов: 1\n"
          ],
          "name": "stdout"
        }
      ]
    },
    {
      "cell_type": "code",
      "metadata": {
        "colab": {
          "base_uri": "https://localhost:8080/"
        },
        "id": "NoH7fzzquTgW",
        "outputId": "ff392506-c2bf-471b-deab-e249c272b3bc"
      },
      "source": [
        "p = m/n\n",
        "print(f'Вероятность вытащить два выигрышных билета: {p}')"
      ],
      "execution_count": 18,
      "outputs": [
        {
          "output_type": "stream",
          "text": [
            "Вероятность вытащить два выигрышных билета: 0.00020202020202020202\n"
          ],
          "name": "stdout"
        }
      ]
    },
    {
      "cell_type": "markdown",
      "metadata": {
        "id": "DJCOVuWCtosd"
      },
      "source": [
        "Ответ: Вероятность угадать код с первой попытки: 0.00020 или 0.020%"
      ]
    }
  ]
}