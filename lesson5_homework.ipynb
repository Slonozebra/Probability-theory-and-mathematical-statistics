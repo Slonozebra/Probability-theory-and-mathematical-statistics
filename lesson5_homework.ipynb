{
  "nbformat": 4,
  "nbformat_minor": 0,
  "metadata": {
    "colab": {
      "name": "lesson5_homework.ipynb",
      "provenance": [],
      "collapsed_sections": []
    },
    "kernelspec": {
      "name": "python3",
      "display_name": "Python 3"
    },
    "language_info": {
      "name": "python"
    }
  },
  "cells": [
    {
      "cell_type": "markdown",
      "metadata": {
        "id": "djAOH3BN6arw"
      },
      "source": [
        "##**Урок 5. Проверка статистических гипотез. P-значения. Доверительные интервалы. A/B-тестирование**"
      ]
    },
    {
      "cell_type": "code",
      "metadata": {
        "id": "03YI6ESz87Ra"
      },
      "source": [
        "import numpy as np"
      ],
      "execution_count": 7,
      "outputs": []
    },
    {
      "cell_type": "markdown",
      "metadata": {
        "id": "zs9dKHTo6i4I"
      },
      "source": [
        "**1.Известно, что генеральная совокупность распределена нормально\n",
        "со средним квадратическим отклонением, равным 16.\n",
        "Найти доверительный интервал для оценки математического ожидания a с надежностью 0.95,\n",
        "если выборочная средняя M = 80, а объем выборки n = 256.**"
      ]
    },
    {
      "cell_type": "code",
      "metadata": {
        "id": "q-l4z4FJ8iRC"
      },
      "source": [
        "M = 80  \n",
        "n = 256  \n",
        "sigma=16  \n",
        "alpha=0.05 "
      ],
      "execution_count": 1,
      "outputs": []
    },
    {
      "cell_type": "markdown",
      "metadata": {
        "id": "nhlIhj1w63JG"
      },
      "source": [
        "$$z_{\\alpha/2} = 1.96$$"
      ]
    },
    {
      "cell_type": "code",
      "metadata": {
        "id": "y7Kuyv878p1E"
      },
      "source": [
        "z_alpfa_2=1.96"
      ],
      "execution_count": 2,
      "outputs": []
    },
    {
      "cell_type": "code",
      "metadata": {
        "colab": {
          "base_uri": "https://localhost:8080/"
        },
        "id": "4R-D6Dx78z3f",
        "outputId": "6529a074-9ad1-4d3e-b95b-7306522c0c2d"
      },
      "source": [
        "se=sigma/np.sqrt(n)\n",
        "se"
      ],
      "execution_count": 5,
      "outputs": [
        {
          "output_type": "execute_result",
          "data": {
            "text/plain": [
              "1.0"
            ]
          },
          "metadata": {},
          "execution_count": 5
        }
      ]
    },
    {
      "cell_type": "code",
      "metadata": {
        "colab": {
          "base_uri": "https://localhost:8080/"
        },
        "id": "2dz8K8co9FA8",
        "outputId": "601bd4b6-c2ea-43a6-8d81-044aa3d10d4b"
      },
      "source": [
        "t_stat(M, se, n, alpha, 'two-sided')"
      ],
      "execution_count": 8,
      "outputs": [
        {
          "output_type": "execute_result",
          "data": {
            "text/plain": [
              "(78.03072611034499, 81.96927388965501)"
            ]
          },
          "metadata": {},
          "execution_count": 8
        }
      ]
    },
    {
      "cell_type": "markdown",
      "metadata": {
        "id": "K1Hkm1_c9Hxy"
      },
      "source": [
        "Ответ: Доверительный интервал [ 78.04 ; 81.96 ] с вероятностью 95%"
      ]
    },
    {
      "cell_type": "markdown",
      "metadata": {
        "id": "83C2c40H9JK9"
      },
      "source": [
        "**2. В результате 10 независимых измерений некоторой величины X, выполненных с одинаковой точностью,\n",
        "получены опытные данные:\n",
        "6.9, 6.1, 6.2, 6.8, 7.5, 6.3, 6.4, 6.9, 6.7, 6.1\n",
        "Предполагая, что результаты измерений подчинены нормальному закону распределения вероятностей,\n",
        "оценить истинное значение величины X при помощи доверительного интервала, покрывающего это\n",
        "значение с доверительной вероятностью 0,95.**"
      ]
    },
    {
      "cell_type": "code",
      "metadata": {
        "colab": {
          "base_uri": "https://localhost:8080/"
        },
        "id": "h5cNyKUC_pzO",
        "outputId": "60f76c43-e9eb-4708-f658-aec062e1ccf3"
      },
      "source": [
        "X = np.array([6.9, 6.1, 6.2, 6.8, 7.5, 6.3, 6.4, 6.9, 6.7, 6.1])\n",
        "n = len(X)  # Объём выборки\n",
        "# X_cp = np.sum(X)/n  # Среднее арифмитическое для данной выборки\n",
        "X_cp = X.mean()  # Среднее арифмитическое для данной выборки\n",
        "alpha = 0.05  # Статистический уровень значимости\n",
        "nu = n-1  # Число степеней свободы\n",
        "t_975_9 = 2.262  # Коэффициент Стьюдента табличный t(p=0.975, nu=9)\n",
        "# sigma = X.var(ddof=1)**(1/2)  # Несмещённое среднеквадратичное отклонение\n",
        "sigma = X.std(ddof=1)  # Несмещённое среднеквадратичное отклонение\n",
        "print(f'Объём выборки n = {n}')\n",
        "print(f'Число степеней свободы nu = {nu}')\n",
        "print(f'Среднее выборочное X_cp = {X_cp}')\n",
        "print(f'Статистический уровень значимости alpha = {alpha}')\n",
        "print(f'Коэффициент Стьюдента табличный t(p=0.975, nu=9) = {t_975_9}')\n",
        "print(f'Несмещённое среднеквадратичное отклонение sigma = {sigma}')\n",
        "X"
      ],
      "execution_count": 9,
      "outputs": [
        {
          "output_type": "stream",
          "text": [
            "Объём выборки n = 10\n",
            "Число степеней свободы nu = 9\n",
            "Среднее выборочное X_cp = 6.590000000000001\n",
            "Статистический уровень значимости alpha = 0.05\n",
            "Коэффициент Стьюдента табличный t(p=0.975, nu=9) = 2.262\n",
            "Несмещённое среднеквадратичное отклонение sigma = 0.4508017549014448\n"
          ],
          "name": "stdout"
        },
        {
          "output_type": "execute_result",
          "data": {
            "text/plain": [
              "array([6.9, 6.1, 6.2, 6.8, 7.5, 6.3, 6.4, 6.9, 6.7, 6.1])"
            ]
          },
          "metadata": {},
          "execution_count": 9
        }
      ]
    },
    {
      "cell_type": "code",
      "metadata": {
        "colab": {
          "base_uri": "https://localhost:8080/"
        },
        "id": "2VhS5uwl_vyD",
        "outputId": "b4405088-b6b7-499c-838b-e0739886675c"
      },
      "source": [
        "t_975_9*sigma/np.sqrt(10)"
      ],
      "execution_count": 10,
      "outputs": [
        {
          "output_type": "execute_result",
          "data": {
            "text/plain": [
              "0.32246174408757394"
            ]
          },
          "metadata": {},
          "execution_count": 10
        }
      ]
    },
    {
      "cell_type": "code",
      "metadata": {
        "colab": {
          "base_uri": "https://localhost:8080/"
        },
        "id": "9Uw8Qggg_x4g",
        "outputId": "667416bf-8f76-47e6-947f-4ede657aed15"
      },
      "source": [
        "X_cp + t_975_9*sigma/np.sqrt(10)"
      ],
      "execution_count": 11,
      "outputs": [
        {
          "output_type": "execute_result",
          "data": {
            "text/plain": [
              "6.912461744087575"
            ]
          },
          "metadata": {},
          "execution_count": 11
        }
      ]
    },
    {
      "cell_type": "code",
      "metadata": {
        "colab": {
          "base_uri": "https://localhost:8080/"
        },
        "id": "30TmizPE_zpf",
        "outputId": "72260056-3476-49de-fde4-952625b6dcb4"
      },
      "source": [
        "X_cp - t_975_9*sigma/np.sqrt(10)"
      ],
      "execution_count": 12,
      "outputs": [
        {
          "output_type": "execute_result",
          "data": {
            "text/plain": [
              "6.267538255912426"
            ]
          },
          "metadata": {},
          "execution_count": 12
        }
      ]
    },
    {
      "cell_type": "markdown",
      "metadata": {
        "id": "edVegorl_3jS"
      },
      "source": [
        "Ответ: Доверительный интервал [ 6.27 ; 6.91 ] с вероятностью 95%"
      ]
    },
    {
      "cell_type": "markdown",
      "metadata": {
        "id": "BHp8Z5GBAVsb"
      },
      "source": [
        "**3.Утверждается, что шарики для подшипников, изготовленные автоматическим станком, имеют средний диаметр 17 мм.\n",
        "Используя односторонний критерий с α=0,05, проверить эту гипотезу, если в выборке из n=100 шариков средний диаметр\n",
        "оказался равным 17.5 мм, а дисперсия известна и равна 4 кв. мм.**"
      ]
    },
    {
      "cell_type": "markdown",
      "metadata": {
        "id": "pUDFnPa9BFNm"
      },
      "source": [
        "\n",
        "$H_0 \\quad \\mu = \\mu_0$\n",
        "\n",
        "$H_1 \\quad \\mu > \\mu_0$\n",
        "\n",
        "$Z_H = \\frac{\\overline{X} - \\mu_0}{\\sigma} \\cdot \\sqrt{n}$\n",
        "\n",
        "$\\alpha = 0.05$\n",
        "\n",
        "$Z_H = \\frac{17.5 - 17}{2} \\cdot \\sqrt{100} = 2.5$\n",
        "\n",
        "$Z = 1.654$\n",
        "\n",
        "$Z_H > Z \\quad \\text{верна гипотеза }H_1$"
      ]
    },
    {
      "cell_type": "markdown",
      "metadata": {
        "id": "qTSuwkkqBGdj"
      },
      "source": [
        "Ответ:  верна  гипотеза H1"
      ]
    },
    {
      "cell_type": "markdown",
      "metadata": {
        "id": "jYMOnXmRCGcK"
      },
      "source": [
        "**4.Продавец утверждает, что средний вес пачки печенья составляет 200 г.\n",
        "Из партии извлечена выборка из 10 пачек. Вес каждой пачки составляет:\n",
        "202, 203, 199, 197, 195, 201, 200, 204, 194, 190.\n",
        "Известно, что их веса распределены нормально.\n",
        "Верно ли утверждение продавца, если учитывать, что доверительная вероятность равна 99%?**"
      ]
    },
    {
      "cell_type": "markdown",
      "metadata": {
        "id": "QCyjn3FyC1Y3"
      },
      "source": [
        ""
      ]
    },
    {
      "cell_type": "code",
      "metadata": {
        "colab": {
          "base_uri": "https://localhost:8080/"
        },
        "id": "DTut5p7WAxbC",
        "outputId": "55671b7a-0a1a-4c0a-c29e-b468c99b7ad7"
      },
      "source": [
        "\n",
        "X = np.array([202, 203, 199, 197, 195, 201, 200, 204, 194, 190])\n",
        "n = len(X)  # Объём выборки\n",
        "X_0 = 200  # Среднее арифмитическое генеральной совокупности\n",
        "# X_cp = np.sum(X)/n  # Среднее арифмитическое для данной выборки\n",
        "X_cp = X.mean()  # Среднее арифмитическое для данной выборки\n",
        "alpha = 0.01  # Статистический уровень значимости\n",
        "nu = n-1  # Число степеней свободы\n",
        "t_t = 3.25  # Коэффициент Стьюдента табличный t(p=0.995, nu=9)\n",
        "# sigma = X.var(ddof=1)**(1/2)  # Несмещённое среднеквадратичное отклонение\n",
        "sigma = X.std(ddof=1)  # Несмещённое среднеквадратичное отклонение\n",
        "t_n = (X_cp - X_0)/(sigma/np.sqrt(n))\n",
        "print(f'Объём выборки n = {n}')\n",
        "print(f'Число степеней свободы nu = {nu}')\n",
        "print(f'Среднее арифмитическое генеральной совокупности X_0 = {X_0}')\n",
        "print(f'Среднее выборочное X_cp = {X_cp}')\n",
        "print(f'Статистический уровень значимости alpha = {alpha}')\n",
        "# print(f'Коэффициент Стьюдента табличный t(p=0.995, nu=9) = {t_995_9}')\n",
        "print(f'Несмещённое среднеквадратичное отклонение sigma = {sigma}')\n",
        "print(f't табличное при alpha=5% t_t = {t_t}')\n",
        "print(f't расчётное при alpha=5% t_n = {t_n}')\n",
        "X"
      ],
      "execution_count": 13,
      "outputs": [
        {
          "output_type": "stream",
          "text": [
            "Объём выборки n = 10\n",
            "Число степеней свободы nu = 9\n",
            "Среднее арифмитическое генеральной совокупности X_0 = 200\n",
            "Среднее выборочное X_cp = 198.5\n",
            "Статистический уровень значимости alpha = 0.01\n",
            "Несмещённое среднеквадратичное отклонение sigma = 4.453463071962462\n",
            "t табличное при alpha=5% t_t = 3.25\n",
            "t расчётное при alpha=5% t_n = -1.0651074037450896\n"
          ],
          "name": "stdout"
        },
        {
          "output_type": "execute_result",
          "data": {
            "text/plain": [
              "array([202, 203, 199, 197, 195, 201, 200, 204, 194, 190])"
            ]
          },
          "metadata": {},
          "execution_count": 13
        }
      ]
    },
    {
      "cell_type": "markdown",
      "metadata": {
        "id": "xssiS_9dDx_7"
      },
      "source": [
        "\n",
        "$\\mu = \\frac{202 + 203 + 199 + 197 + 195 + 201 + 200 + 204 + 194 + 190}{10} = 198.5$\n",
        "\n",
        "$S = \\sqrt{ \\frac{(202 - 198.5)^2 + (203 - 198.5)^2 + (199 - 198.5)^2 + (197 - 198.5)^2 + (195 - 198.5)^2 + (201 - 198.5)^2 + (200 - 198.5)^2 + (204 - 198.5)^2 + (194 - 198.5)^2 + (190 - 198.5)^2}{10-1} } = 4.45346$\n",
        "\n",
        "$H_0 \\quad \\mu = \\mu_0$\n",
        "\n",
        "$H_1 \\quad \\mu \\neq \\mu_0$\n",
        "\n",
        "$\\alpha = 0.01$\n",
        "\n",
        "$T_H = \\frac{198.5 - 200}{4.45346} \\cdot \\sqrt{10} = −1.065$\n",
        "\n",
        "$T = \\pm 3.250 $\n",
        "\n",
        "$-3.250 < T_H < 3.250 \\quad \\text{верна гипотеза }H_0$"
      ]
    },
    {
      "cell_type": "markdown",
      "metadata": {
        "id": "Sz84DZUj9YLn"
      },
      "source": [
        "Ответ: верна нулевая гипотеза H0"
      ]
    }
  ]
}